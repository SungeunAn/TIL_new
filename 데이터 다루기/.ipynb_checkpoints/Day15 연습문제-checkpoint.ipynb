{
 "cells": [
  {
   "cell_type": "code",
   "execution_count": null,
   "metadata": {},
   "outputs": [],
   "source": [
    "import pandas as pd"
   ]
  },
  {
   "cell_type": "code",
   "execution_count": null,
   "metadata": {},
   "outputs": [],
   "source": [
    "# 1. concat_1~3 merge(상하방향)\n",
    "\n",
    "df1=pd.read_csv('concat_1.csv')\n",
    "df2=pd.read_csv('concat_2.csv')\n",
    "df3=pd.read_csv('concat_3.csv')\n",
    "\n",
    "# merge 활용하는 경우\n",
    "df12=pd.merge(df1,df2,how='outer')\n",
    "df123=pd.merge(df12,df3)\n",
    "\n",
    "# concat 활용하는 경우\n",
    "df123=pd.concat([df1,df2,df3])"
   ]
  },
  {
   "cell_type": "code",
   "execution_count": null,
   "metadata": {},
   "outputs": [],
   "source": [
    "df1"
   ]
  },
  {
   "cell_type": "code",
   "execution_count": null,
   "metadata": {},
   "outputs": [],
   "source": [
    "df2"
   ]
  },
  {
   "cell_type": "code",
   "execution_count": null,
   "metadata": {},
   "outputs": [],
   "source": [
    "df3"
   ]
  },
  {
   "cell_type": "code",
   "execution_count": null,
   "metadata": {},
   "outputs": [],
   "source": [
    "# 2. how, axis 값 변경해 테스트\n",
    "\n",
    "df12_0=pd.concat([df1,df2],axis=0)\n",
    "df12_1=pd.concat([df1,df2],axis=1)\n",
    "\n",
    "df12_mo=pd.merge(df1,df2,how='outer')\n",
    "df12_mi=pd.merge(df1,df2,how='inner') # 내용 X\n",
    "\n",
    "df12_co=pd.concat([df1,df2],join='inner') # 아래와 결과 동일\n",
    "df12_ci=pd.concat([df1,df2],join='outer')"
   ]
  },
  {
   "cell_type": "code",
   "execution_count": null,
   "metadata": {},
   "outputs": [],
   "source": [
    "# 3. ignore_index 옵션 적용\n",
    "\n",
    "df12_0=pd.concat([df1,df2],ignore_index=True)"
   ]
  },
  {
   "cell_type": "code",
   "execution_count": null,
   "metadata": {},
   "outputs": [],
   "source": [
    "# 4. merge/join 버전으로 각각 진행\n",
    "\n",
    "# merge 버전\n",
    "pd.merge(df12,df123,how='outer')\n",
    "\n",
    "# join 버전\n"
   ]
  },
  {
   "cell_type": "code",
   "execution_count": null,
   "metadata": {},
   "outputs": [],
   "source": [
    "# 5. survey_ site/survey_visited파일에 대해 merge 연습 (left_on/right_on 연습)\n",
    "\n",
    "site=pd.read_csv('survey_site.csv')\n",
    "visit=pd.read_csv('survey_visited.csv')\n",
    "\n",
    "pd.merge(site,visit,left_on='name',right_on='site')"
   ]
  },
  {
   "cell_type": "code",
   "execution_count": null,
   "metadata": {},
   "outputs": [],
   "source": [
    "# 6. ppt 문제\n",
    "#!!!!!!!!!!!!시간 겁~나게 많이 걸림!!!!!!!!!!!!!!!\n",
    "\n",
    "ht=np.array([0,0,3,5,2,4,9,0,6,4,0,6,0,0])\n",
    "\n",
    "cnt=0\n",
    "for i in range(2,len(ht)-2):\n",
    "    diff=ht[i]-ht[i-2:i+3]\n",
    "    res=diff[diff>=1]\n",
    "    if len(res)==4:\n",
    "        cnt+=min(res)\n",
    "cnt    "
   ]
  },
  {
   "cell_type": "code",
   "execution_count": null,
   "metadata": {},
   "outputs": [],
   "source": [
    "# 6. ppt 문제\n",
    "\n",
    "ht=[0,0,3,5,2,4,9,0,6,4,0,6,0,0] # 건물의 높이\n",
    "\n",
    "cnt=0\n",
    "for i in range(2,len(ht)-2):\n",
    "    a=ht[i]-ht[i-2] # +-2 범위 내 층 차이 임시 저장 변수들\n",
    "    b=ht[i]-ht[i-1]\n",
    "    c=ht[i]-ht[i+1]\n",
    "    d=ht[i]-ht[i+2]\n",
    "    if a>0 and b>0 and c>0 and d>0:\n",
    "        cnt+=min(a,b,c,d)\n",
    "cnt    "
   ]
  },
  {
   "cell_type": "code",
   "execution_count": null,
   "metadata": {},
   "outputs": [],
   "source": []
  }
 ],
 "metadata": {
  "kernelspec": {
   "display_name": "Python 3",
   "language": "python",
   "name": "python3"
  },
  "language_info": {
   "codemirror_mode": {
    "name": "ipython",
    "version": 3
   },
   "file_extension": ".py",
   "mimetype": "text/x-python",
   "name": "python",
   "nbconvert_exporter": "python",
   "pygments_lexer": "ipython3",
   "version": "3.7.4"
  }
 },
 "nbformat": 4,
 "nbformat_minor": 2
}
