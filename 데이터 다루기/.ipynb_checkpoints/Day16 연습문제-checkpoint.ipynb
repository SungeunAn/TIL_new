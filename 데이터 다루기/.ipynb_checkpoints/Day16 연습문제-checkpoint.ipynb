{
 "cells": [
  {
   "cell_type": "code",
   "execution_count": 14,
   "metadata": {},
   "outputs": [],
   "source": [
    "import re\n",
    "import pandas as pd\n",
    "import numpy as np"
   ]
  },
  {
   "cell_type": "code",
   "execution_count": 33,
   "metadata": {},
   "outputs": [
    {
     "name": "stdout",
     "output_type": "stream",
     "text": [
      "원하는 시간을 입력하세요 11:11:11\n"
     ]
    },
    {
     "data": {
      "text/plain": [
       "3"
      ]
     },
     "execution_count": 33,
     "metadata": {},
     "output_type": "execute_result"
    }
   ],
   "source": [
    "# 1. 입력한 시간에 총 몇 명이 사무실에 있었는지 알려주는 함수 작성\n",
    "\n",
    "log='''\n",
    "09:12:23 11:14:35\n",
    "10:34:01 13:23:40\n",
    "10:34:31 11:20:10'''\n",
    "\n",
    "def cnt_person():\n",
    "    \n",
    "    # 원하는 시간 입력, 24시간 시스템\n",
    "    time=list(map(int,input('원하는 시간을 입력하세요 ').split(':')))\n",
    "    \n",
    "    come=re.findall('(\\d\\d):(\\d\\d):(\\d\\d) ',log) # 출근시간\n",
    "    go=re.findall(' (\\d\\d):(\\d\\d):(\\d\\d)',log)   # 퇴근시간\n",
    "    cnt=0 # 결과값 저장하기 위한 변수\n",
    "    \n",
    "    # 입력 시간을 숫자로 환산(시간*3600 + 분*60 + 초)\n",
    "    time=time[0]*3600+time[1]*60+time[2]\n",
    "    \n",
    "    for i in range(len(come)):\n",
    "        \n",
    "        # 출/퇴근 시간을 숫자로 환산\n",
    "        come_int=int(come[i][0])*3600 + int(come[i][1])*60 + int(come[i][2]) # 출근 시간 숫자로 환산\n",
    "        go_int=int(go[i][0])*3600 + int(go[i][1])*60 + int(go[i][2]) # 퇴근 시간 숫자로 환산\n",
    "        \n",
    "        if come_int<=time<=go_int:\n",
    "            cnt+=1\n",
    "    \n",
    "    return cnt\n",
    "\n",
    "cnt_person()"
   ]
  },
  {
   "cell_type": "code",
   "execution_count": 35,
   "metadata": {},
   "outputs": [
    {
     "data": {
      "text/plain": [
       "'454*67-9-3'"
      ]
     },
     "execution_count": 35,
     "metadata": {},
     "output_type": "execute_result"
    }
   ],
   "source": [
    "# 2. 구성된 문자열을 입력받은 뒤, 문자열 내에서 홀수가 연속되면 두 수 사이에 \n",
    "# - 를 추가하고, 짝수가 연속되면 * 를 추가하는 기능을 갖는 DashInsert 함수 작성\n",
    "\n",
    "nums='4546793'\n",
    "\n",
    "def DashInsert(nums):\n",
    "    \n",
    "    res=nums[0]\n",
    "    \n",
    "    nums=list(map(int,list(nums)))\n",
    "    \n",
    "    for i in range(len(nums)-1):\n",
    "        if (nums[i]-nums[i+1])%2==0:\n",
    "            \n",
    "            # 연속으로 짝수인 경우\n",
    "            if nums[i]%2==0: res+='*'\n",
    "                \n",
    "            # 연속으로 홀수인 경우\n",
    "            else: res+='-'\n",
    "        \n",
    "        res+=str(nums[i+1])\n",
    "    \n",
    "    return res\n",
    "\n",
    "DashInsert(nums)"
   ]
  },
  {
   "cell_type": "code",
   "execution_count": 22,
   "metadata": {},
   "outputs": [
    {
     "data": {
      "text/html": [
       "<div>\n",
       "<style scoped>\n",
       "    .dataframe tbody tr th:only-of-type {\n",
       "        vertical-align: middle;\n",
       "    }\n",
       "\n",
       "    .dataframe tbody tr th {\n",
       "        vertical-align: top;\n",
       "    }\n",
       "\n",
       "    .dataframe thead th {\n",
       "        text-align: right;\n",
       "    }\n",
       "</style>\n",
       "<table border=\"1\" class=\"dataframe\">\n",
       "  <thead>\n",
       "    <tr style=\"text-align: right;\">\n",
       "      <th></th>\n",
       "      <th>Capt.</th>\n",
       "      <th>Col.</th>\n",
       "      <th>Countess.</th>\n",
       "      <th>Don.</th>\n",
       "      <th>Dr.</th>\n",
       "      <th>Jonkheer.</th>\n",
       "      <th>Lady.</th>\n",
       "      <th>Major.</th>\n",
       "      <th>Master.</th>\n",
       "      <th>Miss.</th>\n",
       "      <th>Mlle.</th>\n",
       "      <th>Mme.</th>\n",
       "      <th>Mr.</th>\n",
       "      <th>Mrs.</th>\n",
       "      <th>Ms.</th>\n",
       "      <th>Rev.</th>\n",
       "      <th>Sir.</th>\n",
       "    </tr>\n",
       "  </thead>\n",
       "  <tbody>\n",
       "    <tr>\n",
       "      <td>Count</td>\n",
       "      <td>1</td>\n",
       "      <td>2</td>\n",
       "      <td>1</td>\n",
       "      <td>1</td>\n",
       "      <td>7</td>\n",
       "      <td>1</td>\n",
       "      <td>1</td>\n",
       "      <td>2</td>\n",
       "      <td>40</td>\n",
       "      <td>182</td>\n",
       "      <td>2</td>\n",
       "      <td>1</td>\n",
       "      <td>517</td>\n",
       "      <td>125</td>\n",
       "      <td>1</td>\n",
       "      <td>6</td>\n",
       "      <td>1</td>\n",
       "    </tr>\n",
       "  </tbody>\n",
       "</table>\n",
       "</div>"
      ],
      "text/plain": [
       "       Capt.  Col.  Countess.  Don.  Dr.  Jonkheer.  Lady.  Major.  Master.  \\\n",
       "Count      1     2          1     1    7          1      1       2       40   \n",
       "\n",
       "       Miss.  Mlle.  Mme.  Mr.  Mrs.  Ms.  Rev.  Sir.  \n",
       "Count    182      2     1  517   125    1     6     1  "
      ]
     },
     "execution_count": 22,
     "metadata": {},
     "output_type": "execute_result"
    }
   ],
   "source": [
    "# 3-1. 호칭 출력 -> 호칭 별 인원수 출력\n",
    "\n",
    "data=pd.read_csv('data/train.csv')\n",
    "name=list(data.Name)\n",
    "\n",
    "res1=[] # 호칭 저장하기 위한 리스트\n",
    "res2=[] # 호칭 별  출현 횟수 저장하기 위한 리스트\n",
    "\n",
    "for i in name:\n",
    "    temp=re.search('[A-Z]\\w+[.]',i)\n",
    "    res1.append(temp.group())\n",
    "    \n",
    "sir=sorted(list(set(res1))) # 호칭 종류 저장\n",
    "\n",
    "for j in sir:\n",
    "    res2.append(res1.count(j)) # 호칭 종류 별 출현 횟수 저장\n",
    "\n",
    "\n",
    "res=pd.DataFrame(res2,index=sir,columns=['Count'])\n",
    "res.T"
   ]
  },
  {
   "cell_type": "code",
   "execution_count": 24,
   "metadata": {},
   "outputs": [
    {
     "name": "stdout",
     "output_type": "stream",
     "text": [
      "최대 나이 : 80.0 / 최소 나이 : 0.42\n"
     ]
    }
   ],
   "source": [
    "# 3-2. Age 열의 결측값을 평균으로 대체한 뒤 Age 열의 최대/최소값 출력\n",
    "\n",
    "data.Age.fillna(data.Age.mean())\n",
    "print('최대 나이 :',data.Age.max(),'/ 최소 나이 :',data.Age.min())"
   ]
  },
  {
   "cell_type": "code",
   "execution_count": 25,
   "metadata": {},
   "outputs": [],
   "source": [
    "# 3-3. SP=SibSp+Parch인 열 추가\n",
    "\n",
    "data['SP']=data.SibSp+data.Parch"
   ]
  },
  {
   "cell_type": "code",
   "execution_count": null,
   "metadata": {},
   "outputs": [],
   "source": []
  }
 ],
 "metadata": {
  "kernelspec": {
   "display_name": "Python 3",
   "language": "python",
   "name": "python3"
  },
  "language_info": {
   "codemirror_mode": {
    "name": "ipython",
    "version": 3
   },
   "file_extension": ".py",
   "mimetype": "text/x-python",
   "name": "python",
   "nbconvert_exporter": "python",
   "pygments_lexer": "ipython3",
   "version": "3.7.4"
  }
 },
 "nbformat": 4,
 "nbformat_minor": 2
}
