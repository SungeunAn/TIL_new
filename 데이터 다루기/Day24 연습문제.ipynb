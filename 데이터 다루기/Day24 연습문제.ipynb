{
 "cells": [
  {
   "cell_type": "code",
   "execution_count": null,
   "metadata": {},
   "outputs": [],
   "source": [
    "import matplotlib.pyplot as plt\n",
    "import seaborn as sns\n",
    "import pandas as pd\n",
    " \n",
    "train=pd.read_csv('data/BikeSharing/train.csv',parse_dates=['datetime'])\n",
    "test=pd.read_csv('data/BikeSharing/test.csv',parse_dates=['datetime'])"
   ]
  },
  {
   "cell_type": "code",
   "execution_count": null,
   "metadata": {},
   "outputs": [],
   "source": []
  },
  {
   "cell_type": "code",
   "execution_count": null,
   "metadata": {},
   "outputs": [],
   "source": [
    "train['year']=train['datetime'].dt.year\n",
    "train['month']=train['datetime'].dt.month\n",
    "train['day']=train['datetime'].dt.day\n",
    "train['hour']=train['datetime'].dt.hour\n",
    "train['minute']=train['datetime'].dt.minute\n",
    "train['dayofweek']=train['datetime'].dt.dayofweek"
   ]
  },
  {
   "cell_type": "code",
   "execution_count": null,
   "metadata": {},
   "outputs": [],
   "source": [
    "test['year']=test['datetime'].dt.year\n",
    "test['month']=test['datetime'].dt.month\n",
    "test['day']=test['datetime'].dt.day\n",
    "test['hour']=test['datetime'].dt.hour\n",
    "test['minute']=test['datetime'].dt.minute\n",
    "test['dayofweek']=test['datetime'].dt.dayofweek"
   ]
  },
  {
   "cell_type": "code",
   "execution_count": null,
   "metadata": {},
   "outputs": [],
   "source": [
    "fig,axes=plt.subplots(nrows=2)\n",
    "fig.set_size_inches(16,10)\n",
    "plt.sca(axes[0]) # 대상 축 설정 : 여기부터 axes[0]에 대한 설정 시작\n",
    "plt.xticks(rotation=30)\n",
    "sns.countplot(data=train,x='windspeed',ax=axes[0])\n",
    "plt.sca(axes[1]) # 대상 축 설정 : 여기부터 axes[1]에 대한 설정 시작\n",
    "plt.xticks(rotation=60)\n",
    "sns.countplot(data=test,x='windspeed',ax=axes[1])"
   ]
  },
  {
   "cell_type": "code",
   "execution_count": null,
   "metadata": {},
   "outputs": [],
   "source": [
    "fig,axes=plt.subplots(nrows=2)\n",
    "fig.set_size_inches(16,10)\n",
    "plt.sca(axes[0]) # 대상 축 설정\n",
    "plt.xticks(rotation=30)\n",
    "sns.countplot(data=test,x='windspeed',ax=axes[0])\n",
    "plt.sca(axes[1]) # 대상 축 설정\n",
    "plt.xticks(rotation=60)\n",
    "sns.countplot(data=test,x='windspeed',ax=axes[1])"
   ]
  },
  {
   "cell_type": "code",
   "execution_count": null,
   "metadata": {},
   "outputs": [],
   "source": [
    "trainWind0=train.loc[train['windspeed']==0]\n",
    "trainWindNot0=train.loc[train['windspeed']!=0]"
   ]
  },
  {
   "cell_type": "code",
   "execution_count": null,
   "metadata": {},
   "outputs": [],
   "source": [
    "# 머신러닝 : random forestr\n",
    "from sklearn.ensemble import RandomForestClassifier\n",
    "\n",
    "def predict_windspeed(data):\n",
    "    wCol = ['season','weather','humidity','month','temp','year','atemp'] # 풍속 예측에 사용되는 변수\n",
    "    # 풍속이 0인 것과 아닌 것 구분\n",
    "    dataWind0 = data.loc[data['windspeed']==0]\n",
    "    dataWindNot0 = data.loc[data['windspeed']!=0]\n",
    "    dataWindNot0['windspeed'] = dataWindNot0['windspeed'].astype(\"str\")\n",
    "    \n",
    "    # 랜덤 포레스트 분류기 생성\n",
    "    rfModel = RandomForestClassifier()\n",
    "    rfModel.fit(dataWindNot0[wCol],dataWindNot0['windspeed'])\n",
    "    # 학습한 모델로 데이터 예측\n",
    "    preValue = rfModel.predict(dataWind0[wCol])\n",
    "    \n",
    "    predictWind0 = dataWind0\n",
    "    precidtWindNot0 = dataWindNot0\n",
    "    \n",
    "    predictWind0['windspeed'] = preValue\n",
    "    data = precidtWindNot0.append(predictWind0)\n",
    "    data.reset_index(inplace=True)\n",
    "    data.drop('index',inplace=True,axis=1)\n",
    "    return data\n",
    "\n",
    "train = predict_windspeed(train)\n",
    "test = predict_windspeed(test)"
   ]
  },
  {
   "cell_type": "code",
   "execution_count": null,
   "metadata": {},
   "outputs": [],
   "source": [
    "fig,ax1=plt.subplots()\n",
    "plt.sca(ax1)\n",
    "sns.countplot(data=test,x='windspeed',ax=ax1)"
   ]
  },
  {
   "cell_type": "code",
   "execution_count": null,
   "metadata": {},
   "outputs": [],
   "source": []
  },
  {
   "cell_type": "code",
   "execution_count": null,
   "metadata": {},
   "outputs": [],
   "source": [
    "# 범주형 데이터로 만들기\n",
    "feature_names=['season', 'holiday', 'workingday', 'weather', 'temp',\n",
    "       'atemp', 'humidity', 'windspeed', 'year', 'hour', 'dayofweek']\n",
    "\n",
    "c_f_n=['season', 'holiday', 'workingday', 'weather', 'year', 'month',\n",
    "       'hour', 'dayofweek']\n",
    "\n",
    "for v in c_f_n:\n",
    "    train[v]=train[v].astype('category')\n",
    "    test[v]=test[v].astype('category')"
   ]
  },
  {
   "cell_type": "code",
   "execution_count": null,
   "metadata": {},
   "outputs": [],
   "source": [
    "train.holiday"
   ]
  },
  {
   "cell_type": "code",
   "execution_count": null,
   "metadata": {},
   "outputs": [],
   "source": [
    "xtrain=train[feature_names]\n",
    "xtest=test[feature_names]"
   ]
  },
  {
   "cell_type": "code",
   "execution_count": null,
   "metadata": {},
   "outputs": [],
   "source": [
    "ytrain=train['count']"
   ]
  },
  {
   "cell_type": "code",
   "execution_count": null,
   "metadata": {},
   "outputs": [],
   "source": [
    "#      (예측값,실제값)\n",
    "def rmsle(prd,act):\n",
    "    prd=np.array(prd)\n",
    "    act=np.array(act)\n",
    "    diff=np.square(np.log(prd+1)-np.log(act+1))\n",
    "    res=np.sqrt(diff.mean())\n",
    "    return res"
   ]
  },
  {
   "cell_type": "code",
   "execution_count": null,
   "metadata": {},
   "outputs": [],
   "source": [
    "from sklearn.metrics import make_scorer\n",
    "ms=make_scorer(rmsle)\n",
    "ms"
   ]
  },
  {
   "cell_type": "code",
   "execution_count": null,
   "metadata": {},
   "outputs": [],
   "source": [
    "# 교차검증 하기 위한 Lib\n",
    "from sklearn.model_selection import KFold\n",
    "from sklearn.model_selection import cross_val_score\n",
    "\n",
    "kfold=KFold(n_splits=10,shuffle=True,random_state=42)"
   ]
  },
  {
   "cell_type": "code",
   "execution_count": null,
   "metadata": {},
   "outputs": [],
   "source": [
    "from sklearn.ensemble import RandomForestRegressor as rfr\n",
    "\n",
    "model=rfr(n_estimators=100,n_jobs=-1,random_state=42)"
   ]
  },
  {
   "cell_type": "code",
   "execution_count": null,
   "metadata": {},
   "outputs": [],
   "source": [
    "%time score=cross_val_score(model,xtrain,ytrain,scoring=ms,cv=kfold)"
   ]
  },
  {
   "cell_type": "code",
   "execution_count": null,
   "metadata": {},
   "outputs": [],
   "source": [
    "score.mean()"
   ]
  },
  {
   "cell_type": "code",
   "execution_count": null,
   "metadata": {},
   "outputs": [],
   "source": [
    "model.fit(xtrain,ytrain)"
   ]
  },
  {
   "cell_type": "code",
   "execution_count": null,
   "metadata": {},
   "outputs": [],
   "source": [
    "prediction=model.predict(xtest)"
   ]
  },
  {
   "cell_type": "code",
   "execution_count": null,
   "metadata": {},
   "outputs": [],
   "source": [
    "prediction.shape"
   ]
  },
  {
   "cell_type": "code",
   "execution_count": null,
   "metadata": {},
   "outputs": [],
   "source": [
    "sub=pd.read_csv('data/BikeSharing/sampleSubmission.csv')\n",
    "sub['count']=prediction\n",
    "sub.to_csv('data/BikeSharing/asg_sub1.csv',index=False)"
   ]
  },
  {
   "cell_type": "code",
   "execution_count": null,
   "metadata": {},
   "outputs": [],
   "source": [
    "################################################################################\n",
    "# 연습문제 시작"
   ]
  },
  {
   "cell_type": "code",
   "execution_count": 19,
   "metadata": {},
   "outputs": [
    {
     "name": "stdout",
     "output_type": "stream",
     "text": [
      "정수를 입력하세요 : 78\n",
      "83\n",
      "정수를 입력하세요 : 0\n"
     ]
    }
   ],
   "source": [
    "# 6. 문제 생략\n",
    "\n",
    "while True:\n",
    "    ipt=input('정수를 입력하세요 : ')\n",
    "    if ipt=='0':\n",
    "        break\n",
    "        \n",
    "    # 입력한 정수 -> 이진수 -> 1 개수 세기\n",
    "    cnt1=bin(int(ipt)).count('1')\n",
    "    res=0\n",
    "    # 1씩 더해가며 이진수로 변환했을 때 1 개수 세기\n",
    "    while res!=cnt1:\n",
    "        ipt=str(int(ipt)+1)\n",
    "        res=bin(int(ipt)).count('1')\n",
    "    \n",
    "    print(ipt)\n",
    "    "
   ]
  },
  {
   "cell_type": "code",
   "execution_count": null,
   "metadata": {},
   "outputs": [],
   "source": []
  }
 ],
 "metadata": {
  "kernelspec": {
   "display_name": "Python 3",
   "language": "python",
   "name": "python3"
  },
  "language_info": {
   "codemirror_mode": {
    "name": "ipython",
    "version": 3
   },
   "file_extension": ".py",
   "mimetype": "text/x-python",
   "name": "python",
   "nbconvert_exporter": "python",
   "pygments_lexer": "ipython3",
   "version": "3.7.4"
  }
 },
 "nbformat": 4,
 "nbformat_minor": 2
}
