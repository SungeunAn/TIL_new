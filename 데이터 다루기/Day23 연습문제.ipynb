{
 "cells": [
  {
   "cell_type": "code",
   "execution_count": null,
   "metadata": {},
   "outputs": [],
   "source": []
  },
  {
   "cell_type": "code",
   "execution_count": null,
   "metadata": {},
   "outputs": [],
   "source": [
    "# 두 개의 데이터프레임을 만들고 merge 명령으로 합친다. 단 데이터프레임은 다음 \n",
    "# 조건을 만족해야 한다.\n",
    "# 1.각각 5 x 5 이상의 크기를 가진다.\n",
    "# 2.공통 열을 하나 이상 가진다. 다만 공통 열의 이름은 서로 다르다.\n",
    "\n",
    "df1=pd.DataFrame([['Morning','Mini','1.0L','14km',1000],\n",
    "                ['K3','Small',1.6,'18km',2000],\n",
    "                ['K5','Mid',2.0,'16km',3000],\n",
    "                ['K8','Sport',3.0,'12km',4000],\n",
    "                ['K9','Large',5.0,'10km',5000]],\n",
    "                 columns=['Name','Segment','Engine','Fuel','Price'])\n",
    "\n",
    "df2=pd.DataFrame([['Morning',2000,'휘발유',50,4],\n",
    "                  ['K3',2005,'경유',100,5],\n",
    "                  ['K5',2005,'경유',150,5],\n",
    "                  ['K8',2016,'휘발유',250,4],\n",
    "                  ['K9',2010,'휘발유',300,4]],\n",
    "                  columns=['이름','출시년도','연료','마력','탑승인원'])"
   ]
  },
  {
   "cell_type": "code",
   "execution_count": null,
   "metadata": {},
   "outputs": [],
   "source": [
    "pd.merge(df1,df2,left_on=['Name'],right_on=['이름'])"
   ]
  },
  {
   "cell_type": "code",
   "execution_count": null,
   "metadata": {},
   "outputs": [],
   "source": [
    "# 3. 어느 회사의 전반기(1월 ~ 6월) 실적을 나타내는 데이터프레임과 후반기\n",
    "#    (7월 ~ 12월) 실적을 나타내는 데이터프레임을 만든 뒤 합친다. \n",
    "#    실적 정보는 \"매출\", \"비용\", \"이익\" 으로 이루어진다. (이익 = 매출 - 비용).\n",
    "#    또한 1년간의 총 실적을 마지막 행으로 덧붙인다.\n",
    "\n",
    "df1=pd.read_csv('df1.txt',sep='\\t')\n",
    "df2=pd.read_csv('df2.txt',sep='\\t')"
   ]
  },
  {
   "cell_type": "code",
   "execution_count": null,
   "metadata": {},
   "outputs": [],
   "source": [
    "df3=pd.concat([df1,df2],ignore_index=True)\n",
    "df3.loc[13]=(['총 실적',df3['매출'].sum(),df3['비용'].sum(),df3['이익'].sum()])"
   ]
  },
  {
   "cell_type": "code",
   "execution_count": null,
   "metadata": {},
   "outputs": [],
   "source": [
    "df3"
   ]
  },
  {
   "cell_type": "code",
   "execution_count": null,
   "metadata": {},
   "outputs": [],
   "source": [
    "# 4. A 반 학생 5명과 B반 학생 5명의 국어, 영어, 수학 점수를 나타내는 데이터프레임을\n",
    "#    다음과 같이 만든다.\n",
    "# 1)\"반\", \"번호\", \"국어\", \"영어\", \"수학\" 을 열로 가지는 데이터프레임 df_score2을\n",
    "#  만든다.\n",
    "\n",
    "df_score2=pd.read_csv('df_score2.txt',sep='\\t')\n",
    "\n",
    "# 2) df_score2을 변형하여 1차 행 인덱스로 \"반\"을 2차 행 인덱스로 \"번호\"을 가지는\n",
    "#  데이터프레임을 만든다.\n",
    "\n",
    "df1=df_score2.set_index(['반','번호'])\n",
    "\n",
    "# 3) 위 데이터 프레임에 각 학생의 평균을 나타내는 행을 오른쪽에 추가한다.\n",
    "\n",
    "df1['평균']=df1.mean(axis=1)\n",
    "\n",
    "# 4) df_score2을 변형하여 행 인덱스로 \"번호\"을, 1차 열 인덱스로 \"국어\", \"영어\",\n",
    "#    \"수학\"을, 2차 열 인덱스로 \"반\"을 가지는 데이터프레임을 만든다.\n",
    "\n",
    "df2_k=df_score2.pivot_table(index='번호',columns='반',values='국어')\n",
    "df2_e=df_score2.pivot_table(index='번호',columns='반',values='영어')\n",
    "df2_m=df_score2.pivot_table(index='번호',columns='반',values='수학')\n",
    "df2=pd.concat([df2_k,df2_e,df2_m],axis=1,keys=['국어','영어','수학'])\n",
    "\n",
    "# 5) 위 데이터 프레임에 각 반별 각 과목의 평균을 나타내는 행을 아래에 추가한다.\n",
    "df2.loc['평균']=df2.mean()"
   ]
  },
  {
   "cell_type": "code",
   "execution_count": null,
   "metadata": {},
   "outputs": [],
   "source": [
    "# 조현진\n",
    "import pandas as pd\n",
    "df_score4 = df_score2.pivot_table(index=['번호'], columns = ['반'])\n",
    "df_score4"
   ]
  },
  {
   "cell_type": "code",
   "execution_count": null,
   "metadata": {},
   "outputs": [],
   "source": [
    "# 9. 문제 생략\n",
    "\n",
    "import re\n",
    "\n",
    "# 스럼프인지 확인하는 함수\n",
    "def slump(data):\n",
    "    res=[]\n",
    "    for i in data:\n",
    "        if re.match('[DE]F+([DE]F+)*G',i):\n",
    "            res.append('Yes')\n",
    "        else: res.append('No')\n",
    "    return res\n",
    "\n",
    "# 스림프인지 확인하는 함수\n",
    "def slimp(data):\n",
    "    res=[]\n",
    "    for i in data:\n",
    "        temp=False\n",
    "        while not temp:\n",
    "            pat1=re.match('AB([A-Z]*)C',i)\n",
    "            pat2=re.match('A([A-Z]*)C',i)\n",
    "            \n",
    "            if i=='AH':\n",
    "                temp=True\n",
    "            elif pat1:\n",
    "                if pat1.span==len(i):\n",
    "                    i=pat1.group(1)\n",
    "                else:\n",
    "                    temp=False\n",
    "                    break\n",
    "            elif pat2:\n",
    "                if pat.span==len(i):\n",
    "                    i=pat2.group(1)\n",
    "                    if slump([i])[0]=='Yes':\n",
    "                        temp=True\n",
    "                    else:\n",
    "                        temp=False\n",
    "                        break\n",
    "            else:\n",
    "                temp=False\n",
    "                break\n",
    "        if temp==True:\n",
    "            res.append('Yes')\n",
    "        else: res.append('No')\n",
    "    return res\n",
    "\n",
    "# 스러피인지 확인하는 함수\n",
    "def slurpy(data):\n",
    "    res=[]\n",
    "    for i in data:\n",
    "        pat=re.match('(A[A-Z]*[CH])([DE]F+[A-Z]*G)',i)\n",
    "        if pat:\n",
    "            if pat.span==len(i) and slimp(pat.group(1)) and slump(pat.group(2)):\n",
    "                res.append('Yes')\n",
    "            else:\n",
    "                res.append('No')\n",
    "        else:\n",
    "            res.append('No')\n",
    "    print('SLURPYS OUTPUT')\n",
    "    for j in res:\n",
    "        print(j)\n",
    "    print('END OF OUTPUT')\n",
    "    \n",
    "ipt=input().split(' ')\n",
    "\n",
    "slurpy(ipt[1:])"
   ]
  },
  {
   "cell_type": "code",
   "execution_count": null,
   "metadata": {},
   "outputs": [],
   "source": []
  }
 ],
 "metadata": {
  "kernelspec": {
   "display_name": "Python 3",
   "language": "python",
   "name": "python3"
  },
  "language_info": {
   "codemirror_mode": {
    "name": "ipython",
    "version": 3
   },
   "file_extension": ".py",
   "mimetype": "text/x-python",
   "name": "python",
   "nbconvert_exporter": "python",
   "pygments_lexer": "ipython3",
   "version": "3.7.4"
  }
 },
 "nbformat": 4,
 "nbformat_minor": 2
}
