{
 "cells": [
  {
   "cell_type": "code",
   "execution_count": null,
   "metadata": {},
   "outputs": [],
   "source": [
    "# 1. 타이타닉 데이터에 대해...\n",
    "\n",
    "ttn=pd.read_csv('data/train.csv')\n",
    "\n",
    "# 1-1. Pclass를 원핫인코딩\n",
    "\n",
    "bins=np.linspace(ttn.Pclass.max(),ttn.Pclass.min(),3)\n",
    "ttn['Pclass_bins']=np.digitize(ttn.Pclass,bins)\n",
    "pd.get_dummies(ttn.Pclass_bins)"
   ]
  },
  {
   "cell_type": "code",
   "execution_count": null,
   "metadata": {},
   "outputs": [],
   "source": [
    "# 1-2. Age를 이산화(5개 구간으로 나눔)\n",
    "\n",
    "bins=np.linspace(ttn.Age.max(),ttn.Age.min(),5,dtype=int)\n",
    "Age_bins=np.digitize(ttn.Age.dropna(),bins) # NaN 값이 많아서 제외하도록 함\n",
    "res=pd.DataFrame(ttn.Age.dropna().groupby(Age_bins).size(),columns=['Age'])\n",
    "res.index=bins"
   ]
  },
  {
   "cell_type": "code",
   "execution_count": null,
   "metadata": {},
   "outputs": [],
   "source": [
    "res"
   ]
  },
  {
   "cell_type": "code",
   "execution_count": null,
   "metadata": {},
   "outputs": [],
   "source": [
    "# 1-3. Fare를 이산화(3개 구간으로 나눔)\n",
    "\n",
    "bins=np.linspace(ttn.Fare.max(),ttn.Fare.min(),3,dtype=int)\n",
    "Fare_bins=np.digitize(ttn.Fare,bins)\n",
    "res=pd.DataFrame(ttn.groupby(Fare_bins).size(),columns=['Fare'])\n",
    "res.index=bins"
   ]
  },
  {
   "cell_type": "code",
   "execution_count": null,
   "metadata": {},
   "outputs": [],
   "source": [
    "res"
   ]
  },
  {
   "cell_type": "code",
   "execution_count": null,
   "metadata": {},
   "outputs": [],
   "source": [
    "# 1-4 embarked를 원핫인코딩\n",
    " \n",
    "pd.get_dummies(ttn.Embarked)"
   ]
  },
  {
   "cell_type": "code",
   "execution_count": null,
   "metadata": {},
   "outputs": [],
   "source": [
    "# 2. 리스트를 거꾸로 출력하는 반복문을 만들어 보세요. (2가지 방법)\n",
    "\n",
    "lst=list(range(10))\n",
    "\n",
    "# 첫 번째 방법\n",
    "for i in range(len(lst)):\n",
    "    print(lst[-i-1])\n",
    "    \n",
    "# 두 번째 방법\n",
    "lst.reverse()"
   ]
  },
  {
   "cell_type": "code",
   "execution_count": null,
   "metadata": {},
   "outputs": [],
   "source": [
    "# 3. 리스트에서 중복 값을 제거해 보세요.\n",
    "\n",
    "ns = [1, 3, 5, 1, 3, 5, 1, 3, 5]\n",
    "\n",
    "ns=list(set(ns))"
   ]
  },
  {
   "cell_type": "code",
   "execution_count": null,
   "metadata": {},
   "outputs": [],
   "source": [
    "# 4. 타이타닉호 승객을 사망자와 생존자 그룹으로 나누고 각 그룹에 대해 '미성년자',\n",
    "#'청년', '중년', '장년', '노년' 승객의 비율을 구한다. 각 그룹 별로 비율의 전체\n",
    "#합은 1이 되어야 한다.\n",
    "\n",
    "# Age 1 미만인 경우가 있어 bins[0] 1에서 0으로 수정\n",
    "bins = [0, 15, 25, 35, 60, 99] \n",
    "labels = [\"미성년자\", \"청년\", \"중년\", \"장년\", \"노년\"]\n",
    "\n",
    "live=ttn[ttn.Survived==1] # 생존자 그룹\n",
    "dead=ttn[ttn.Survived==0] # 사망자 그룹\n",
    "\n",
    "live_age=pd.cut(live.Age,bins,labels=labels).value_counts()\n",
    "dead_age=pd.cut(dead.Age,bins,labels=labels).value_counts()\n",
    "\n",
    "age_ratio_live=live_age/sum(live_age) # 전체 대비 각 연령대 비율\n",
    "age_ratio_dead=dead_age/sum(dead_age) \n",
    "\n",
    "print(age_ratio_live,'\\n')\n",
    "print(age_ratio_dead)"
   ]
  },
  {
   "cell_type": "code",
   "execution_count": null,
   "metadata": {},
   "outputs": [],
   "source": []
  }
 ],
 "metadata": {
  "kernelspec": {
   "display_name": "Python 3",
   "language": "python",
   "name": "python3"
  },
  "language_info": {
   "codemirror_mode": {
    "name": "ipython",
    "version": 3
   },
   "file_extension": ".py",
   "mimetype": "text/x-python",
   "name": "python",
   "nbconvert_exporter": "python",
   "pygments_lexer": "ipython3",
   "version": "3.7.4"
  }
 },
 "nbformat": 4,
 "nbformat_minor": 2
}
