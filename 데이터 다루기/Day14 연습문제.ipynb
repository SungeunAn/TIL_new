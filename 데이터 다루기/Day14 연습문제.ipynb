{
 "cells": [
  {
   "cell_type": "code",
   "execution_count": null,
   "metadata": {},
   "outputs": [],
   "source": []
  },
  {
   "cell_type": "code",
   "execution_count": null,
   "metadata": {},
   "outputs": [],
   "source": [
    "# 0. zoo name의 데이터 명을 zoo.data에 헤더로 추가\n",
    "\n",
    "import pandas as pd\n",
    "import re\n",
    "\n",
    "with open('zoo.names','r') as f:\n",
    "    zoo_name=f.read()\n",
    "    names=re.findall('\\d{1,2}[.] [a-z]+',zoo_name)\n",
    "\n",
    "data=pd.read_csv('zoo.data',header=None)\n",
    "data.columns=names\n",
    "#data=data.set_index(names[0]) 동물 이름을 행 인덱스로 설정 시 frog 중복으로 오류\n",
    "data"
   ]
  },
  {
   "cell_type": "code",
   "execution_count": null,
   "metadata": {},
   "outputs": [],
   "source": [
    "# 1.데이터 읽기, 저장하기 연습\n",
    "\n",
    "# 데이터 읽기는 0.에서 연습하여 생략\n",
    "\n",
    "data.to_csv('zoo_with_types.txt')"
   ]
  },
  {
   "cell_type": "code",
   "execution_count": null,
   "metadata": {},
   "outputs": [],
   "source": [
    "# 2. reindex 연습\n",
    "\n",
    "data.reindex([0,-1,4,102])"
   ]
  },
  {
   "cell_type": "code",
   "execution_count": null,
   "metadata": {},
   "outputs": [],
   "source": [
    "# 3. 결측값 처리 연습\n",
    "\n",
    "data.reindex([0,-1,4,102],fill_value='No Data')"
   ]
  },
  {
   "cell_type": "code",
   "execution_count": null,
   "metadata": {
    "scrolled": true
   },
   "outputs": [],
   "source": [
    "data.reindex([0,-1,4,102],method='ffill')"
   ]
  },
  {
   "cell_type": "code",
   "execution_count": null,
   "metadata": {},
   "outputs": [],
   "source": [
    "data.reindex([0,-1,4,102],method='bfill')"
   ]
  },
  {
   "cell_type": "code",
   "execution_count": null,
   "metadata": {},
   "outputs": [],
   "source": [
    "# 4. info, head, tail 등을 활용해 데이터 확인\n",
    "\n",
    "data.info() # RangeIndex와 non-null object가 101개로 일치 -> 누락 데이터 X\n",
    "data.head(3)"
   ]
  },
  {
   "cell_type": "code",
   "execution_count": null,
   "metadata": {},
   "outputs": [],
   "source": [
    "data.tail(3)"
   ]
  },
  {
   "cell_type": "code",
   "execution_count": 3,
   "metadata": {},
   "outputs": [
    {
     "name": "stdout",
     "output_type": "stream",
     "text": [
      "높이 차 : 2\n"
     ]
    }
   ],
   "source": [
    "# 5. ppt 문제 (10번 덤프 후 최고점과 최저점의 높이 차이)\n",
    "\n",
    "ht=[5,8,3,1,5,6,9,9,2,2,4] # 쌓여있는 박스 수\n",
    "\n",
    "for i in range(10):\n",
    "    ht[ht.index(max(ht))]-=1\n",
    "    ht[ht.index(min(ht))]+=1\n",
    "print('높이 차 :',max(ht)-min(ht))"
   ]
  },
  {
   "cell_type": "code",
   "execution_count": null,
   "metadata": {},
   "outputs": [],
   "source": []
  }
 ],
 "metadata": {
  "kernelspec": {
   "display_name": "Python 3",
   "language": "python",
   "name": "python3"
  },
  "language_info": {
   "codemirror_mode": {
    "name": "ipython",
    "version": 3
   },
   "file_extension": ".py",
   "mimetype": "text/x-python",
   "name": "python",
   "nbconvert_exporter": "python",
   "pygments_lexer": "ipython3",
   "version": "3.7.4"
  }
 },
 "nbformat": 4,
 "nbformat_minor": 2
}
