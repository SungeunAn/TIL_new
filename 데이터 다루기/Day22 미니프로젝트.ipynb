{
 "cells": [
  {
   "cell_type": "code",
   "execution_count": null,
   "metadata": {},
   "outputs": [],
   "source": []
  },
  {
   "cell_type": "code",
   "execution_count": 1,
   "metadata": {},
   "outputs": [],
   "source": [
    "import pandas as pd\n",
    "import numpy as np"
   ]
  },
  {
   "cell_type": "code",
   "execution_count": 2,
   "metadata": {},
   "outputs": [
    {
     "data": {
      "text/plain": [
       "'01'"
      ]
     },
     "execution_count": 2,
     "metadata": {},
     "output_type": "execute_result"
    }
   ],
   "source": [
    "# 스트링을 날짜 형식으로 가져오기\n",
    "\n",
    "import datetime\n",
    "\n",
    "today='2020-01-17'\n",
    "datetime.datetime.strptime(today,'%Y-%m-%d')\n",
    "datetime.datetime.today() # 오늘 날짜(연월일시분초)\n",
    "datetime.datetime.today().strftime('%m') # 월만 추출"
   ]
  },
  {
   "cell_type": "code",
   "execution_count": 3,
   "metadata": {},
   "outputs": [
    {
     "name": "stdout",
     "output_type": "stream",
     "text": [
      "<class 'pandas.core.frame.DataFrame'>\n",
      "RangeIndex: 10886 entries, 0 to 10885\n",
      "Data columns (total 12 columns):\n",
      "datetime      10886 non-null datetime64[ns]\n",
      "season        10886 non-null int64\n",
      "holiday       10886 non-null int64\n",
      "workingday    10886 non-null int64\n",
      "weather       10886 non-null int64\n",
      "temp          10886 non-null float64\n",
      "atemp         10886 non-null float64\n",
      "humidity      10886 non-null int64\n",
      "windspeed     10886 non-null float64\n",
      "casual        10886 non-null int64\n",
      "registered    10886 non-null int64\n",
      "count         10886 non-null int64\n",
      "dtypes: datetime64[ns](1), float64(3), int64(8)\n",
      "memory usage: 1020.7 KB\n",
      "<class 'pandas.core.frame.DataFrame'>\n",
      "RangeIndex: 6493 entries, 0 to 6492\n",
      "Data columns (total 9 columns):\n",
      "datetime      6493 non-null datetime64[ns]\n",
      "season        6493 non-null int64\n",
      "holiday       6493 non-null int64\n",
      "workingday    6493 non-null int64\n",
      "weather       6493 non-null int64\n",
      "temp          6493 non-null float64\n",
      "atemp         6493 non-null float64\n",
      "humidity      6493 non-null int64\n",
      "windspeed     6493 non-null float64\n",
      "dtypes: datetime64[ns](1), float64(3), int64(5)\n",
      "memory usage: 456.7 KB\n"
     ]
    },
    {
     "data": {
      "text/plain": [
       "(6493, 9)"
      ]
     },
     "execution_count": 3,
     "metadata": {},
     "output_type": "execute_result"
    }
   ],
   "source": [
    "# 1. bike data 불러오기 - 각 데이터 확인(shape, info, ...)\n",
    "\n",
    "train=pd.read_csv('data/BikeSharing/train.csv',parse_dates=['datetime'])\n",
    "test=pd.read_csv('data/BikeSharing/test.csv',parse_dates=['datetime'])\n",
    "\n",
    "train.info()\n",
    "test.info()\n",
    "\n",
    "train.shape\n",
    "test.shape"
   ]
  },
  {
   "cell_type": "code",
   "execution_count": null,
   "metadata": {},
   "outputs": [],
   "source": [
    "# 2. 중복 확인\n",
    "# - 훈련 데이터, 테스트 데이터 중복 값 있는지 확인\n",
    "# - 훈련 데이터, 테스트 데이터 null 값 확인\n",
    "\n",
    "train.duplicated().sum()\n",
    "test.duplicated().sum()\n",
    "\n",
    "train.isnull().sum()\n",
    "test.isnull().sum()"
   ]
  },
  {
   "cell_type": "code",
   "execution_count": null,
   "metadata": {},
   "outputs": [],
   "source": [
    "train.datetime.dt.year\n",
    "train.datetime.dt.month\n",
    "train.datetime.dt.day\n",
    "train.datetime.dt.minute\n",
    "train.datetime.dt.dayofweek # 요일정보 (월요일: 0, 일요일: 6)"
   ]
  },
  {
   "cell_type": "code",
   "execution_count": 4,
   "metadata": {},
   "outputs": [
    {
     "data": {
      "text/html": [
       "<div>\n",
       "<style scoped>\n",
       "    .dataframe tbody tr th:only-of-type {\n",
       "        vertical-align: middle;\n",
       "    }\n",
       "\n",
       "    .dataframe tbody tr th {\n",
       "        vertical-align: top;\n",
       "    }\n",
       "\n",
       "    .dataframe thead tr th {\n",
       "        text-align: left;\n",
       "    }\n",
       "</style>\n",
       "<table border=\"1\" class=\"dataframe\">\n",
       "  <thead>\n",
       "    <tr>\n",
       "      <th></th>\n",
       "      <th colspan=\"4\" halign=\"left\">weather</th>\n",
       "    </tr>\n",
       "    <tr>\n",
       "      <th></th>\n",
       "      <th>1</th>\n",
       "      <th>2</th>\n",
       "      <th>3</th>\n",
       "      <th>4</th>\n",
       "    </tr>\n",
       "  </thead>\n",
       "  <tbody>\n",
       "    <tr>\n",
       "      <td>Mean Count</td>\n",
       "      <td>205.236791</td>\n",
       "      <td>178.95554</td>\n",
       "      <td>118.846333</td>\n",
       "      <td>164.0</td>\n",
       "    </tr>\n",
       "  </tbody>\n",
       "</table>\n",
       "</div>"
      ],
      "text/plain": [
       "               weather                              \n",
       "                     1          2           3      4\n",
       "Mean Count  205.236791  178.95554  118.846333  164.0"
      ]
     },
     "execution_count": 4,
     "metadata": {},
     "output_type": "execute_result"
    }
   ],
   "source": [
    "# 3. datetime에서 년,월,일,시,분,초를 추출하여 각각의 column으로 구성\n",
    "# && 4. 근무일 유무/요일/시즌/날씨에 따른 시간대별 자전거 대여량 구하기\n",
    "# ex) df['year]=df['datetime'].dt.year\n",
    "# -년,월,일,시 에 따른 평균 대여량 구하기\n",
    "# => 분석 결과 reporting (ex. 여름에 대여량이 많다)\n",
    "\n",
    "# 날짜를 연월일시...로 나누어 각각의 열로 구성하는 함수\n",
    "def dateSplit(data):\n",
    "    col=['year','month','day','hour','minute','second']\n",
    "    for i in col:\n",
    "        data[i]=eval('data.datetime.dt.'+i)\n",
    "    return data\n",
    "\n",
    "# 열원일시... 별 평균값 출력하는 함수\n",
    "# 근무일 여부, 계절, 날씨에도 적용할 수 있도록 구성\n",
    "def meanCnt(data,key):\n",
    "    if key=='date':\n",
    "        col=['year','month','day','hour','minute','second']\n",
    "    elif key=='work':\n",
    "        col=['workingday']\n",
    "    elif key=='season' or key=='weather':\n",
    "        col=[key]\n",
    "    else:\n",
    "        print('Please Check Your Key')\n",
    "        return\n",
    "    col_new1=[] # 결과값 열(year, month, day...) 이름 저장1\n",
    "    col_new2=[] # 결과값 열(2011, 2012...) 이름 저장2 (멀티인덱스)\n",
    "    res=[] # 평균값 저장\n",
    "    for i in col:\n",
    "        kind=sorted(eval('data.'+i).drop_duplicates())\n",
    "        for j in kind:\n",
    "            col_new1.append(i)\n",
    "            col_new2.append(int(j))\n",
    "            res.append(data.loc[eval('data.'+i)==j,'count'].mean())\n",
    "    col_new=[col_new1]+[col_new2]\n",
    "    return pd.DataFrame(res,index=col_new,columns=['Mean Count']).T\n",
    "\n",
    "dateSplit(train)\n",
    "dateSplit(test)\n",
    "\n",
    "meanCnt(train,'date')\n",
    "meanCnt(train,'work')\n",
    "meanCnt(train,'season')\n",
    "meanCnt(train,'weather')"
   ]
  },
  {
   "cell_type": "code",
   "execution_count": null,
   "metadata": {},
   "outputs": [],
   "source": [
    "# 5. 연도별/월별 자전거 대여량 구하기\n",
    "\n",
    "# 연도별/월별 총 자전거 대여량 구하는 함수\n",
    "def allCnt(data,key):\n",
    "    res=[]\n",
    "    kind=sorted(eval('data.'+key).drop_duplicates())\n",
    "    for i in kind:\n",
    "        res.append(data.loc[eval('data.'+key)==i,'count'].sum())\n",
    "    return pd.DataFrame(res,index=kind,columns=['Total Count']).T\n",
    "\n",
    "allCnt(train,'year')\n",
    "allCnt(train,'month')"
   ]
  },
  {
   "cell_type": "code",
   "execution_count": 5,
   "metadata": {},
   "outputs": [],
   "source": [
    "# 6. 아웃라이어제거 - 정상범위 데이터 : count열값-count열값평균 < 3*(count.std)\n",
    "\n",
    "def delOutlier(data):\n",
    "    cnts=data['count']\n",
    "    data=data.loc[(cnts-cnts.mean())<3*cnts.std()]\n",
    "    return data\n",
    "\n",
    "train=delOutlier(train)"
   ]
  },
  {
   "cell_type": "code",
   "execution_count": null,
   "metadata": {},
   "outputs": [],
   "source": [
    "# 7. 시즌컬럼 원핫 인코딩\n",
    "train=pd.concat([train,pd.get_dummies(train.season,prefix='season')],axis=1)"
   ]
  },
  {
   "cell_type": "code",
   "execution_count": 6,
   "metadata": {},
   "outputs": [
    {
     "name": "stderr",
     "output_type": "stream",
     "text": [
      "C:\\Users\\student\\Anaconda3\\lib\\site-packages\\pandas\\core\\indexing.py:961: FutureWarning: \n",
      "Passing list-likes to .loc or [] with any missing label will raise\n",
      "KeyError in the future, you can use .reindex() as an alternative.\n",
      "\n",
      "See the documentation here:\n",
      "https://pandas.pydata.org/pandas-docs/stable/user_guide/indexing.html#deprecate-loc-reindex-listlike\n",
      "  return getattr(section, self.name)[new_key]\n"
     ]
    }
   ],
   "source": [
    "# 8.데이터 보정 - 풍속 등 각 필드에 0으로 저장되어 있는 값을 근사값으로 보정\n",
    "\n",
    "# Srep 1. 풍속과 상관관계 높은 top3 변수 추리기\n",
    "def corTop3(data,sub): #(데이터셋, '풍속')\n",
    "    cor=abs(data.corr().loc[sub])\n",
    "    del cor['registered'] # test에 없는 변수들 삭제\n",
    "    del cor['casual']\n",
    "    del cor[sub] # 자기자신과의 상관관계는 무조건 1이므로 삭제\n",
    "    top3=pd.DataFrame(cor.nlargest(3)).index # 습도, 월, 계절\n",
    "    return top3\n",
    "\n",
    "windTop3=corTop3(train,'windspeed')\n",
    "    \n",
    "    \n",
    "    \n",
    "# Step 2. top3 변수값 기준으로 knn 알고리즘 실행하는 함수\n",
    "def tryKnn(data,sub,top): #(데이터셋, '풍속', 풍속 주요 영향 인자 리스트)\n",
    "    \n",
    "    # 각 영향 인자 별 데이터\n",
    "    top1=data[top[0]] \n",
    "    top2=data[top[1]]\n",
    "    top3=data[top[2]]\n",
    "    \n",
    "    # 보간 필요한 열 인덱스 선택\n",
    "    idx=data.loc[(data[sub]==0)|(np.isnan(data[sub]))].index \n",
    "\n",
    "    for i in idx:\n",
    "        # 보간 대상 열의 top3 데이터 저장\n",
    "        targetTop1=top1[i] # 습도\n",
    "        targetTop2=top2[i] # 월\n",
    "        targetTop3=top3[i] # 계절\n",
    "        \n",
    "        # 가장 가까운 거리의 데이터셋 찾기 ##### 정규화 안했드아앙!!!!!\n",
    "        dist1=(np.array(top1)-targetTop1)**2\n",
    "        dist2=(np.array(top2)-targetTop2)**2\n",
    "        dist3=(np.array(top3)-targetTop3)**2\n",
    "        \n",
    "        # 가장 가까운 데이터 5개의 행 인덱스 추출\n",
    "        dist=pd.DataFrame(dist1+dist2+dist3,columns=['distance']).nsmallest(20,'distance').index\n",
    "        # 추출된 5개 데이터 평균을 보간값으로 적용\n",
    "        data.loc[i,sub]=data.loc[dist,sub].mean()\n",
    "        \n",
    "    return data\n",
    "        \n",
    "trainInt=tryKnn(train,'windspeed',windTop3)"
   ]
  },
  {
   "cell_type": "code",
   "execution_count": 7,
   "metadata": {},
   "outputs": [
    {
     "name": "stderr",
     "output_type": "stream",
     "text": [
      "C:\\Users\\student\\Anaconda3\\lib\\site-packages\\ipykernel_launcher.py:4: FutureWarning: Sorting because non-concatenation axis is not aligned. A future version\n",
      "of pandas will change to not sort by default.\n",
      "\n",
      "To accept the future behavior, pass 'sort=False'.\n",
      "\n",
      "To retain the current behavior and silence the warning, pass 'sort=True'.\n",
      "\n",
      "  after removing the cwd from sys.path.\n"
     ]
    }
   ],
   "source": [
    "# 9. 바이크 대여수 예상되는 값 출력\n",
    "\n",
    "# train 데이터와 test 데이터 병합, 위의 함수 활용해 count 빈 부분 계산\n",
    "wholeData=pd.concat([trainInt,test],ignore_index=True)\n",
    "countTop3=corTop3(wholeData,'count')\n",
    "\n",
    "# 원하는 부분만 파일로 저장\n",
    "result=tryKnn(wholeData,'count',countTop3).loc[10739:,['datetime','count']]\n",
    "result.to_csv('sub3.csv',index=False)"
   ]
  },
  {
   "cell_type": "code",
   "execution_count": 8,
   "metadata": {},
   "outputs": [
    {
     "data": {
      "text/plain": [
       "datetime    0\n",
       "count       0\n",
       "dtype: int64"
      ]
     },
     "execution_count": 8,
     "metadata": {},
     "output_type": "execute_result"
    }
   ],
   "source": [
    "result.isnull().sum()"
   ]
  },
  {
   "cell_type": "code",
   "execution_count": null,
   "metadata": {},
   "outputs": [],
   "source": [
    "np.isnan(wholeData['count'])"
   ]
  },
  {
   "cell_type": "code",
   "execution_count": null,
   "metadata": {},
   "outputs": [],
   "source": []
  }
 ],
 "metadata": {
  "kernelspec": {
   "display_name": "Python 3",
   "language": "python",
   "name": "python3"
  },
  "language_info": {
   "codemirror_mode": {
    "name": "ipython",
    "version": 3
   },
   "file_extension": ".py",
   "mimetype": "text/x-python",
   "name": "python",
   "nbconvert_exporter": "python",
   "pygments_lexer": "ipython3",
   "version": "3.7.4"
  }
 },
 "nbformat": 4,
 "nbformat_minor": 2
}
