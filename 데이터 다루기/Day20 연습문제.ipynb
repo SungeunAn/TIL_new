{
 "cells": [
  {
   "cell_type": "code",
   "execution_count": null,
   "metadata": {},
   "outputs": [],
   "source": []
  },
  {
   "cell_type": "code",
   "execution_count": null,
   "metadata": {},
   "outputs": [],
   "source": [
    "# 1. 길이가 10인 0-벡터를 만드세요.\n",
    "\n",
    "ar=np.zeros(10)\n",
    "ar"
   ]
  },
  {
   "cell_type": "code",
   "execution_count": null,
   "metadata": {},
   "outputs": [],
   "source": [
    "# 2. 길이가 10이며 다섯번째 원소만 1이고 나머지 원소는 모두 0인 벡터를 만드세요.\n",
    "\n",
    "ar=np.zeros(10)\n",
    "ar[4]=1\n",
    "ar"
   ]
  },
  {
   "cell_type": "code",
   "execution_count": null,
   "metadata": {},
   "outputs": [],
   "source": [
    "# 3. 10 부터 49까지의 값을 가지는 벡터를 만드세요.\n",
    "\n",
    "ar=np.arange(10,50)\n",
    "ar"
   ]
  },
  {
   "cell_type": "code",
   "execution_count": null,
   "metadata": {},
   "outputs": [],
   "source": [
    "# 4. 위 벡터의 순서를 바꾸세요.\n",
    "\n",
    "ar[::-1]"
   ]
  },
  {
   "cell_type": "code",
   "execution_count": null,
   "metadata": {},
   "outputs": [],
   "source": [
    "# 5. 0부터 8까지의 값을 가지는 3x3 행렬을 만드세요.\n",
    "\n",
    "np.arange(9).reshape(3,3)"
   ]
  },
  {
   "cell_type": "code",
   "execution_count": null,
   "metadata": {},
   "outputs": [],
   "source": [
    "# 6. 벡터 [1,2,0,0,4,0] 에서 원소의 값이 0이 아닌 원소만 선택한 벡터를 만드세요.\n",
    "\n",
    "vec=np.array([1,2,0,0,4,0])\n",
    "vec[vec!=0]"
   ]
  },
  {
   "cell_type": "code",
   "execution_count": null,
   "metadata": {},
   "outputs": [],
   "source": [
    "# 7. 3x3 단위 행렬(identity matrix)을 만드세요\n",
    "\n",
    "np.eye(3,3)"
   ]
  },
  {
   "cell_type": "code",
   "execution_count": null,
   "metadata": {},
   "outputs": [],
   "source": [
    "# 8. 난수 원소를 가지는 3x3 행렬을 만드세요\n",
    "\n",
    "ar=np.random.randint(10,size=(3,3))\n",
    "ar"
   ]
  },
  {
   "cell_type": "code",
   "execution_count": null,
   "metadata": {},
   "outputs": [],
   "source": [
    "# 9. 위에서 만든 난수 행렬에서 최대값/최소값 원소를 찾으세요.\n",
    "\n",
    "print(ar.max(),ar.min())"
   ]
  },
  {
   "cell_type": "code",
   "execution_count": null,
   "metadata": {},
   "outputs": [],
   "source": [
    "# 10. 위에서 만든 난수 행렬에서 행 평균, 열 평균을 계산하세요.\n",
    "\n",
    "print(ar.mean(axis=1),ar.mean(axis=0))"
   ]
  },
  {
   "cell_type": "code",
   "execution_count": 5,
   "metadata": {},
   "outputs": [
    {
     "data": {
      "text/plain": [
       "26.0"
      ]
     },
     "execution_count": 5,
     "metadata": {},
     "output_type": "execute_result"
    }
   ],
   "source": [
    "# 11. 4개의 직사각형이 평면에 있는데 밑변이 모두 가로축에 평행하다. 이 직사각형들\n",
    "# 이 차지하는 면적을 구하는 프로그램을 작성하시오. 이 네 개의 직사각형들은 서로\n",
    "# 떨어져 있을 수도 있고 겹쳐 있을 수도 있다. 또한 하나가 다른 하나를 포함할 수도\n",
    "# 있으며, 변이나 꼭지점이 겹쳐질 수도 있다.\n",
    "\n",
    "'''\n",
    "입력형식\n",
    "하나의 직사각형은 왼쪽 아래의 꼭지점과 오른쪽 위의 꼭지점의 좌표로 주어진다. \n",
    "입력은 네 줄이며, 각 줄은 네 개의 정수로 하나의 직사각형을 나타낸다. \n",
    "첫 번째와 두 번째의 정수는 사각형의 왼쪽 아래 꼭지점의 x좌표, y좌표이고, \n",
    "세 번째와 네 번째의 정수는 사각형의 오른쪽 위 꼭지점의 x좌표, y좌표이다. \n",
    "단, x좌표와 y좌표는 1 이상이고 1000 이하인 정수이다.\n",
    "\n",
    "출력형식\n",
    "화면에 4개의 직사각형이 차지하는 면적을 출력한다.'''\n",
    "\n",
    "pnt=pd.DataFrame([[1, 2, 4, 4],\n",
    "[2, 3, 5, 7],\n",
    "[3, 1, 6, 5],\n",
    "[7, 3, 8, 6]])\n",
    "\n",
    "left=pnt.iloc[:,:2] # 왼쪽 아래 꼭지점 좌표\n",
    "right=pnt.iloc[:,2:] # 오른쪽 위 꼭지점 좌표\n",
    "\n",
    "# 원점에서 가장 멀리 떨어진 점 좌표(x,y) 기준으로 영행렬 생성(np.zeros([x,y]))\n",
    "res=np.zeros([right.max().iloc[0],right.max().iloc[1]]) \n",
    "\n",
    "# 각 사각형에 포함되는 위치의 데이터를 1로 치환\n",
    "for i in range(4):\n",
    "    res[left[0][i]-1:right[2][i]-1,left[1][i]-1:right[3][i]-1]=1\n",
    "    \n",
    "# 넓이 출력\n",
    "res.sum()"
   ]
  },
  {
   "cell_type": "code",
   "execution_count": null,
   "metadata": {},
   "outputs": [],
   "source": []
  }
 ],
 "metadata": {
  "kernelspec": {
   "display_name": "Python 3",
   "language": "python",
   "name": "python3"
  },
  "language_info": {
   "codemirror_mode": {
    "name": "ipython",
    "version": 3
   },
   "file_extension": ".py",
   "mimetype": "text/x-python",
   "name": "python",
   "nbconvert_exporter": "python",
   "pygments_lexer": "ipython3",
   "version": "3.7.4"
  }
 },
 "nbformat": 4,
 "nbformat_minor": 2
}
