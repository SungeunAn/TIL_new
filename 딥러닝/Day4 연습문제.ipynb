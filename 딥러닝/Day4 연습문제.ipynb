{
 "cells": [
  {
   "cell_type": "code",
   "execution_count": 130,
   "metadata": {},
   "outputs": [
    {
     "name": "stdout",
     "output_type": "stream",
     "text": [
      "','로 나누어 입력해주세요 : 1,4,7,6,16,68,46,468,26,1\n",
      "최소거리 : 1.0\n",
      "최소거리 점 집합 : [(6, 7)]\n"
     ]
    }
   ],
   "source": [
    "#1. 1차원의 점들이 주어졌을 때, 그 중 가장 거리가 짧은 것의 쌍을 출력하는 함수\n",
    "\n",
    "#점들의 위치 값 입력\n",
    "dots=input(\"','로 나누어 입력해주세요 : \").split(',')   \n",
    "dots=list(set(map(int,dots)))      #동일한 점 있는 경우 제거하기 위해 set()\n",
    "\n",
    "#사용 변수 초기화\n",
    "dist_min=max(dots)-min(dots)       #최소거리 저장하기 위한 변수\n",
    "dots_min=[]                        #최소거리 점 집합 저장하기 위한 리스트\n",
    "\n",
    "for i in range(len(dots)):\n",
    "    for j in range(i+1,len(dots)): #동일한 쌍을 2번 비교하지 않도록 j 범위 설정\n",
    "        dist=abs(float(dots[i])-float(dots[j]))\n",
    "        if dist < dist_min:\n",
    "            dots_min=[]             #저장된 점 집합 삭제\n",
    "            dist_min=dist \n",
    "            dots_min.append((dots[i],dots[j]))\n",
    "        elif dist == dist_min:\n",
    "            dots_min=dots_min+[(dots[i],dots[j])]\n",
    "\n",
    "print('최소거리 :',dist_min,)\n",
    "print('최소거리 점 집합 :',dots_min)"
   ]
  },
  {
   "cell_type": "code",
   "execution_count": 129,
   "metadata": {
    "scrolled": true
   },
   "outputs": [
    {
     "name": "stdout",
     "output_type": "stream",
     "text": [
      "김씨 : 2 명/ 이씨 : 6 명 \n",
      "\n",
      "이재영 3 번 반복 \n",
      "\n",
      "중복 제거된 명단 : {'박민호', '박영서', '권종표', '김재성', '이유덕', '이재영', '강상희', '최승혁', '김지완', '이성연', '전경헌', '송정환'} \n",
      "\n",
      "오름차순 명단 : ['강상희', '권종표', '김재성', '김지완', '박민호', '박영서', '송정환', '이성연', '이유덕', '이재영', '전경헌', '최승혁']\n"
     ]
    }
   ],
   "source": [
    "#2. 주어진 문자열에 대해 아래와 같은 함수 작성\n",
    "\n",
    "names='이유덕,이재영,권종표,이재영,박민호,강상희,이재영,김지완,최승혁,이성연,박영서,박민호,전경헌,송정환,김재성,이유덕,전경헌'.split(',')\n",
    "\n",
    "#2-1. 김씨와 이씨는 각각 몇 명 인가요?------------------------------------------\n",
    "#변수 초기화\n",
    "last_name=[]             #성을 저장하기 위한 리스트\n",
    "\n",
    "for i in names:\n",
    "    last_name.append(list(i)[0])\n",
    "    \n",
    "print('김씨 :',last_name.count('김'),'명/','이씨 :',last_name.count('이'),'명','\\n')\n",
    "\n",
    "#2-2. \"이재영\"이란 이름이 몇 번 반복되나요?-------------------------------------\n",
    "print('이재영',names.count('이재영'),'번 반복','\\n')\n",
    "\n",
    "#2-3. 중복을 제거한 이름을 출력하세요.------------------------------------------\n",
    "print('중복 제거된 명단 :',set(names),'\\n')\n",
    "\n",
    "#2-4. 중복을 제거한 이름을 오름차순으로 정렬하여 출력하세요.--------------------\n",
    "names_sorted=list(set(names))\n",
    "names_sorted.sort()\n",
    "print('오름차순 명단 :',names_sorted)"
   ]
  },
  {
   "cell_type": "code",
   "execution_count": 31,
   "metadata": {},
   "outputs": [
    {
     "data": {
      "text/plain": [
       "233168"
      ]
     },
     "execution_count": 31,
     "metadata": {},
     "output_type": "execute_result"
    }
   ],
   "source": [
    "#3-1. 1000미만의 자연수에서 3,5의 배수의 총합을 구하라.\n",
    "\n",
    "multi_3=list(range(0,1000,3))\n",
    "multi_5=list(range(0,1000,5))\n",
    "multi_15=list(range(0,1000,15))\n",
    "sum(multi_3)+sum(multi_5)-sum(multi_15)"
   ]
  },
  {
   "cell_type": "code",
   "execution_count": 143,
   "metadata": {},
   "outputs": [
    {
     "data": {
      "text/plain": [
       "233168"
      ]
     },
     "execution_count": 143,
     "metadata": {},
     "output_type": "execute_result"
    }
   ],
   "source": [
    "#3-2\n",
    "\n",
    "result=0\n",
    "for i in range(1000):\n",
    "    if i%3==0 or i%5==0:\n",
    "        result+=i\n",
    "result"
   ]
  },
  {
   "cell_type": "code",
   "execution_count": 131,
   "metadata": {},
   "outputs": [
    {
     "name": "stdout",
     "output_type": "stream",
     "text": [
      "자연수를 입력하세요 :10000\n"
     ]
    },
    {
     "data": {
      "text/plain": [
       "[6, 28, 496, 8128]"
      ]
     },
     "execution_count": 131,
     "metadata": {},
     "output_type": "execute_result"
    }
   ],
   "source": [
    "#4. 입력으로 자연수 N을 받고, 출력으로 N 이하의 모든 완전수를 출력하는 코드\n",
    "\n",
    "num=int(input('자연수를 입력하세요 :'))\n",
    "per_num=[]                 #완전수 저장 리스트\n",
    "\n",
    "for i in range(1,num):\n",
    "    div_i=0\n",
    "    for j in range(1,i):   #num 이하 임의의 자연수 i 완전수 여부 판단\n",
    "        if i%j==0:\n",
    "            div_i+=j\n",
    "    if div_i==i:\n",
    "        per_num.append(i)  #완전수인 i만 저장\n",
    "per_num"
   ]
  },
  {
   "cell_type": "code",
   "execution_count": 135,
   "metadata": {},
   "outputs": [
    {
     "name": "stdout",
     "output_type": "stream",
     "text": [
      "0123456789\n",
      "0~9까지의 숫자가 1번씩 입력되었습니다\n"
     ]
    }
   ],
   "source": [
    "#5. 입력 값이 0~9까지의 숫자가 각각 한 번 씩만 사용된 것인지 확인하는 함수\n",
    "\n",
    "num=input()\n",
    "result=0\n",
    "\n",
    "for i in range(10):\n",
    "    if num.count(str(i)) != 1:\n",
    "        result=1\n",
    "        print('0~9까지의 숫자가 1번씩 입력되지 않았습니다')\n",
    "        break\n",
    "        \n",
    "if result==0:\n",
    "    print('0~9까지의 숫자가 1번씩 입력되었습니다')"
   ]
  },
  {
   "cell_type": "code",
   "execution_count": 76,
   "metadata": {},
   "outputs": [
    {
     "name": "stdout",
     "output_type": "stream",
     "text": [
      "aaabbcccccca\n"
     ]
    },
    {
     "data": {
      "text/plain": [
       "'a3b2c6a1'"
      ]
     },
     "execution_count": 76,
     "metadata": {},
     "output_type": "execute_result"
    }
   ],
   "source": [
    "#6. 문자열을 입력받아 문자가 연속으로 반복되는 경우 그 반복 횟수를 표시하여 문자열을 압축\n",
    "\n",
    "#변수 초기화\n",
    "in_str=list(input())\n",
    "i=in_str[0]                     #이전 문자 저장 변수\n",
    "k=1                             #문자 반복 횟수 저장 변수\n",
    "result=''\n",
    "\n",
    "for j in in_str[1:]: \n",
    "    if j==i:\n",
    "        k+=1\n",
    "    else:                       #문자가 달라진 경우 현재까지의 문자와 개수 result에 저장\n",
    "        result=result+str(i)+str(k)\n",
    "        k=1\n",
    "    i=j\n",
    "result=result+str(i)+str(k)     #마지막 변수와 그 개수 저장\n",
    "\n",
    "result"
   ]
  },
  {
   "cell_type": "code",
   "execution_count": 96,
   "metadata": {},
   "outputs": [
    {
     "data": {
      "text/plain": [
       "{9, 13, 16, 18, 36, 37}"
      ]
     },
     "execution_count": 96,
     "metadata": {},
     "output_type": "execute_result"
    }
   ],
   "source": [
    "#7. 번호 중복 안되는 로또 번호 생성기\n",
    "\n",
    "import random\n",
    "num_set=set()\n",
    "\n",
    "while True:\n",
    "    num_set.add(random.randint(1,45))\n",
    "    if len(num_set)==6 :\n",
    "        break\n",
    "        \n",
    "num_set"
   ]
  },
  {
   "cell_type": "code",
   "execution_count": 95,
   "metadata": {},
   "outputs": [
    {
     "name": "stdout",
     "output_type": "stream",
     "text": [
      "Coffee is coming out\n",
      "Coffee left : 9 Cups\n",
      "Money left : 1900 Won\n",
      "====================\n",
      "Coffee is coming out\n",
      "Coffee left : 8 Cups\n",
      "Money left : 1700 Won\n",
      "====================\n",
      "Coffee is coming out\n",
      "Coffee left : 7 Cups\n",
      "Money left : 1500 Won\n",
      "====================\n",
      "Coffee is coming out\n",
      "Coffee left : 6 Cups\n",
      "Money left : 1300 Won\n",
      "====================\n",
      "Coffee is coming out\n",
      "Coffee left : 5 Cups\n",
      "Money left : 1100 Won\n",
      "====================\n",
      "Coffee is coming out\n",
      "Coffee left : 4 Cups\n",
      "Money left : 900 Won\n",
      "====================\n",
      "Coffee is coming out\n",
      "Coffee left : 3 Cups\n",
      "Money left : 700 Won\n",
      "====================\n",
      "Coffee is coming out\n",
      "Coffee left : 2 Cups\n",
      "Money left : 500 Won\n",
      "====================\n",
      "Coffee is coming out\n",
      "Coffee left : 1 Cups\n",
      "Money left : 300 Won\n",
      "====================\n",
      "Coffee is coming out\n",
      "Coffee left : 0 Cups\n",
      "Money left : 100 Won\n",
      "====================\n",
      "Out of service =ㅅ=\n"
     ]
    }
   ],
   "source": [
    "#8. 잔액 200원 미만이면 작동 중지되는 커피머신\n",
    "\n",
    "coffee=10 #재료 10잔분, 1잔에 200원\n",
    "money=2100\n",
    "\n",
    "while money>=200:\n",
    "    print('Coffee is coming out')\n",
    "    coffee=coffee-1\n",
    "    money=money-200\n",
    "    print('Coffee left : %d Cups' %coffee)\n",
    "    print('Money left : %d Won\\n' %money,'='*20,sep='')\n",
    "    if coffee==0:\n",
    "        print('Out of service =ㅅ=')\n",
    "        break"
   ]
  },
  {
   "cell_type": "code",
   "execution_count": 138,
   "metadata": {},
   "outputs": [
    {
     "name": "stdout",
     "output_type": "stream",
     "text": [
      "                     \n",
      "                    *\n",
      "                   ***\n",
      "                  *****\n",
      "                 *******\n",
      "                *********\n",
      "               ***********\n",
      "              *************\n",
      "             ***************\n",
      "            *****************\n",
      "           *******************\n",
      "          *********************\n",
      "         ***********************\n",
      "        *************************\n",
      "       ***************************\n",
      "      *****************************\n",
      "     *******************************\n",
      "    *********************************\n",
      "   ***********************************\n",
      "  *************************************\n",
      " ***************************************\n"
     ]
    }
   ],
   "source": [
    "#9-1. *을 피라미드 모양으로 출력\n",
    "\n",
    "import random\n",
    "num=random.randint(1,30)\n",
    "\n",
    "for i in range(num):\n",
    "    print(' '*(num-i),'*'*(2*i-1),sep='')"
   ]
  },
  {
   "cell_type": "code",
   "execution_count": 142,
   "metadata": {},
   "outputs": [
    {
     "name": "stdout",
     "output_type": "stream",
     "text": [
      "                                                             \n",
      "                              *                              \n",
      "                             ***                             \n",
      "                            *****                            \n",
      "                           *******                           \n",
      "                          *********                          \n",
      "                         ***********                         \n",
      "                        *************                        \n",
      "                       ***************                       \n",
      "                      *****************                      \n",
      "                     *******************                     \n",
      "                    *********************                    \n"
     ]
    }
   ],
   "source": [
    "#9-2.\n",
    "\n",
    "import random\n",
    "num=random.randint(1,30)\n",
    "\n",
    "for i in range(num):\n",
    "    print('{0:^61}'.format('*'*(2*i-1)))"
   ]
  },
  {
   "cell_type": "code",
   "execution_count": null,
   "metadata": {},
   "outputs": [],
   "source": []
  },
  {
   "cell_type": "code",
   "execution_count": null,
   "metadata": {},
   "outputs": [],
   "source": []
  }
 ],
 "metadata": {
  "kernelspec": {
   "display_name": "Python 3",
   "language": "python",
   "name": "python3"
  },
  "language_info": {
   "codemirror_mode": {
    "name": "ipython",
    "version": 3
   },
   "file_extension": ".py",
   "mimetype": "text/x-python",
   "name": "python",
   "nbconvert_exporter": "python",
   "pygments_lexer": "ipython3",
   "version": "3.7.4"
  }
 },
 "nbformat": 4,
 "nbformat_minor": 2
}
