{
 "cells": [
  {
   "cell_type": "code",
   "execution_count": 19,
   "metadata": {},
   "outputs": [
    {
     "name": "stdout",
     "output_type": "stream",
     "text": [
      "','로 나누어 입력 : 1,2,3,4,9,8\n",
      "최소거리 = 1.0\n",
      "최소거리 점 집합 = [(1, 2), (2, 3), (3, 4), (9, 8)]\n"
     ]
    }
   ],
   "source": [
    "#1. 1차원의 점들이 주어졌을 때, 그 중 가장 거리가 짧은 것의 쌍을 출력하는 함수\n",
    "\n",
    "#점들의 위치 값 입력\n",
    "dots=input(\"','로 나누어 입력 : \").split(',')   \n",
    "dots=list(map(int,dots))\n",
    "\n",
    "#사용 변수 초기화\n",
    "dist_min=max(dots)-min(dots)       #최소거리 저장하기 위한 변수\n",
    "dots_min=[]                        #최소거리를 갖는 점 집합 저장 리스트\n",
    "\n",
    "for i in range(len(dots)):\n",
    "    for j in range(i+1,len(dots)): #동일한 쌍을 2번 비교하지 않도록 j 범위 설정\n",
    "        dist=abs(float(dots[i])-float(dots[j]))\n",
    "        if dist < dist_min:\n",
    "            dots_min=[] \n",
    "            dist_min=dist \n",
    "            dots_min.append((dots[i],dots[j]))\n",
    "        elif dist == dist_min:\n",
    "            dots_min=dots_min+[(dots[i],dots[j])]\n",
    "\n",
    "print('최소거리 =',dist_min,)\n",
    "print('최소거리 점 집합 =',dots_min)"
   ]
  },
  {
   "cell_type": "code",
   "execution_count": 27,
   "metadata": {},
   "outputs": [
    {
     "name": "stdout",
     "output_type": "stream",
     "text": [
      "김씨 : 2 명/ 이씨 : 6 명\n",
      "이재영 3 번 반복\n",
      "{'박민호', '박영서', '권종표', '김재성', '이유덕', '이재영', '강상희', '최승혁', '김지완', '이성연', '전경헌', '송정환'}\n"
     ]
    }
   ],
   "source": [
    "#2.주어진 문자열에 대해 아래와 같은 함수 작성\n",
    "names='이유덕,이재영,권종표,이재영,박민호,강상희,이재영,김지완,최승혁,이성연,박영서,박민호,전경헌,송정환,김재성,이유덕,전경헌'.split(',')\n",
    "\n",
    "#2-1. 김씨와 이씨는 각각 몇 명 인가요?------------------------------------------\n",
    "#변수 초기화\n",
    "last_name=[]\n",
    "\n",
    "for i in names:\n",
    "    last_name.append(list(i)[0])\n",
    "    \n",
    "print('김씨 :',last_name.count('김'),'명/','이씨 :',last_name.count('이'),'명')\n",
    "\n",
    "#2-2. \"이재영\"이란 이름이 몇 번 반복되나요?-------------------------------------\n",
    "print('이재영',names.count('이재영'),'번 반복')\n",
    "\n",
    "#2-3. 중복을 제거한 이름을 출력하세요.------------------------------------------\n",
    "names_set=set(names)\n",
    "print(names_set)\n",
    "\n",
    "#2-4. 중복을 제거한 이름을 오름차순으로 정렬하여 출력하세요.--------------------\n",
    "\n"
   ]
  },
  {
   "cell_type": "code",
   "execution_count": 31,
   "metadata": {},
   "outputs": [
    {
     "data": {
      "text/plain": [
       "233168"
      ]
     },
     "execution_count": 31,
     "metadata": {},
     "output_type": "execute_result"
    }
   ],
   "source": [
    "#3. 1000미만의 자연수에서 3,5의 배수의 총합을 구하라.\n",
    "multi_3=list(range(0,1000,3))\n",
    "multi_5=list(range(0,1000,5))\n",
    "multi_15=list(range(0,1000,15))\n",
    "sum(multi_3)+sum(multi_5)-sum(multi_15)"
   ]
  },
  {
   "cell_type": "code",
   "execution_count": null,
   "metadata": {},
   "outputs": [],
   "source": [
    "#4. 입력으로 자연수 N을 받고, 출력으로 N 이하의 모든 완전수를 출력하는 코드\n"
   ]
  },
  {
   "cell_type": "code",
   "execution_count": null,
   "metadata": {},
   "outputs": [],
   "source": []
  },
  {
   "cell_type": "code",
   "execution_count": null,
   "metadata": {},
   "outputs": [],
   "source": []
  },
  {
   "cell_type": "code",
   "execution_count": null,
   "metadata": {},
   "outputs": [],
   "source": []
  },
  {
   "cell_type": "code",
   "execution_count": null,
   "metadata": {},
   "outputs": [],
   "source": []
  },
  {
   "cell_type": "code",
   "execution_count": null,
   "metadata": {},
   "outputs": [],
   "source": []
  },
  {
   "cell_type": "code",
   "execution_count": null,
   "metadata": {},
   "outputs": [],
   "source": []
  },
  {
   "cell_type": "code",
   "execution_count": null,
   "metadata": {},
   "outputs": [],
   "source": []
  },
  {
   "cell_type": "code",
   "execution_count": null,
   "metadata": {},
   "outputs": [],
   "source": []
  },
  {
   "cell_type": "code",
   "execution_count": null,
   "metadata": {},
   "outputs": [],
   "source": [
    "#7.번호 중복 안되는 로또 번호 생성기\n",
    "i=0\n",
    "num_set=set()\n",
    "import random\n",
    "\n",
    "while True:\n",
    "    num_set.add(random.randint(1,45))\n",
    "    if len(num_set)==6 :\n",
    "        break\n",
    "    #i+=1\n",
    "num_set"
   ]
  },
  {
   "cell_type": "code",
   "execution_count": null,
   "metadata": {},
   "outputs": [],
   "source": [
    "#8.잔액 200원 미만이면 작동 중지되는 카피머신\n",
    "coffee=10 #재료 10잔분, 1잔에 200원\n",
    "money=2100\n",
    "\n",
    "while money>=200:\n",
    "    print('Coffee is coming out')\n",
    "    coffee=coffee-1\n",
    "    money=money-200\n",
    "    print('Coffee left : %d Cups' %coffee)\n",
    "    print('Money left : %d Won\\n' %money,'='*20,sep='')\n",
    "    if coffee==0:\n",
    "        print('Out of service =ㅅ=')\n",
    "        break"
   ]
  },
  {
   "cell_type": "code",
   "execution_count": null,
   "metadata": {},
   "outputs": [],
   "source": [
    "#9.*을 피라미드 모양으로 출력\n",
    "for i in range(4):\n",
    "    print(' '*i,'*',sep='')"
   ]
  }
 ],
 "metadata": {
  "kernelspec": {
   "display_name": "Python 3",
   "language": "python",
   "name": "python3"
  },
  "language_info": {
   "codemirror_mode": {
    "name": "ipython",
    "version": 3
   },
   "file_extension": ".py",
   "mimetype": "text/x-python",
   "name": "python",
   "nbconvert_exporter": "python",
   "pygments_lexer": "ipython3",
   "version": "3.7.4"
  }
 },
 "nbformat": 4,
 "nbformat_minor": 2
}
