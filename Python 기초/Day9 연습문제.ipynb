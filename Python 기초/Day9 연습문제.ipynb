{
 "cells": [
  {
   "cell_type": "code",
   "execution_count": null,
   "metadata": {},
   "outputs": [],
   "source": []
  },
  {
   "cell_type": "code",
   "execution_count": 3,
   "metadata": {},
   "outputs": [
    {
     "name": "stdout",
     "output_type": "stream",
     "text": [
      "23920000 원\n"
     ]
    }
   ],
   "source": [
    "#1. 주식 총액 계산(다음 : 89,000 원/ 네이버 : 751,000 원)\n",
    "\n",
    "daum=89000\n",
    "naver=751000\n",
    "total=100*daum+20*naver\n",
    "print(total,'원')"
   ]
  },
  {
   "cell_type": "code",
   "execution_count": 4,
   "metadata": {},
   "outputs": [
    {
     "name": "stdout",
     "output_type": "stream",
     "text": [
      "79550 원\n"
     ]
    }
   ],
   "source": [
    "#2. 위 문제에서 다음, 네이버 주식 각각 5%, 10% 하락한 경우의 손실액 계산\n",
    "\n",
    "d_loss=0.05 #다음 손실율\n",
    "n_loss=0.1  #네이버 손실율\n",
    "loss=d_loss*daum+n_loss*naver\n",
    "print(int(loss),'원')"
   ]
  },
  {
   "cell_type": "code",
   "execution_count": 5,
   "metadata": {},
   "outputs": [
    {
     "name": "stdout",
     "output_type": "stream",
     "text": [
      "10.0 도\n"
     ]
    }
   ],
   "source": [
    "#3. 화씨 온도 50도일 때 섭씨 온도 계산\n",
    "\n",
    "fer=50 #화씨온도\n",
    "cel=(fer-32)/1.8\n",
    "print(cel,'도')"
   ]
  },
  {
   "cell_type": "code",
   "execution_count": 6,
   "metadata": {},
   "outputs": [
    {
     "name": "stdout",
     "output_type": "stream",
     "text": [
      "pizzapizzapizzapizzapizzapizzapizzapizzapizzapizza\n"
     ]
    }
   ],
   "source": [
    "#4. \"pizza\"를 10번 출력\n",
    "\n",
    "print('pizza'*10)"
   ]
  },
  {
   "cell_type": "code",
   "execution_count": 7,
   "metadata": {},
   "outputs": [
    {
     "name": "stdout",
     "output_type": "stream",
     "text": [
      "34 만원\n"
     ]
    }
   ],
   "source": [
    "#5. 월요일에 100만 원으로 시작해 3일 연속으로 -30%일 때 수요일의 종가 계산\n",
    "\n",
    "res=100*((0.7)**3)\n",
    "print(int(res),'만원')"
   ]
  },
  {
   "cell_type": "code",
   "execution_count": 8,
   "metadata": {},
   "outputs": [
    {
     "data": {
      "text/plain": [
       "'파이썬 생년월일: 2014년 12월 12일 주민등록번호: 20141212-1623210'"
      ]
     },
     "execution_count": 8,
     "metadata": {},
     "output_type": "execute_result"
    }
   ],
   "source": [
    "#6. 다음 형식에 맞게 이름, 생년월일, 주민번호 출력\n",
    "#파이썬 생년월일: 2014년 12월 12일 주민등록번호: 20141212-1623210\n",
    "\n",
    "import re\n",
    "\n",
    "info='파이썬 생년월일: 2014년 12월 12일 주민등록번호: 20141212-1623210'\n",
    "pat=re.match('\\w+ \\w+: \\d+년 \\d+월 \\d+일 \\w+: \\d{8}-\\d{7}',info)\n",
    "pat.group()"
   ]
  },
  {
   "cell_type": "code",
   "execution_count": 9,
   "metadata": {},
   "outputs": [
    {
     "name": "stdout",
     "output_type": "stream",
     "text": [
      "KaKao Daum\n"
     ]
    }
   ],
   "source": [
    "#7. 슬라이싱, 연결하기로  'Daum KaKao' -> 'KaKao Daum'\n",
    "\n",
    "s='Daum KaKao'\n",
    "s=s[5:]+' '+s[:4]\n",
    "print(s)"
   ]
  },
  {
   "cell_type": "code",
   "execution_count": 10,
   "metadata": {},
   "outputs": [
    {
     "data": {
      "text/plain": [
       "'hi world'"
      ]
     },
     "execution_count": 10,
     "metadata": {},
     "output_type": "execute_result"
    }
   ],
   "source": [
    "#8. 'hello world' -> 'hi world'\n",
    "\n",
    "a='hello world'\n",
    "a.replace('hello','hi')"
   ]
  },
  {
   "cell_type": "code",
   "execution_count": 11,
   "metadata": {},
   "outputs": [
    {
     "name": "stdout",
     "output_type": "stream",
     "text": [
      "bcdefa\n"
     ]
    }
   ],
   "source": [
    "#9. 'abcdef' ->  'bcdefa'\n",
    "\n",
    "x='abcdef'\n",
    "x=x[1:]+x[0]\n",
    "print(x)"
   ]
  },
  {
   "cell_type": "code",
   "execution_count": 12,
   "metadata": {},
   "outputs": [
    {
     "name": "stdout",
     "output_type": "stream",
     "text": [
      "['488,500', '500,500', '501,000', '461,500', '474,500']\n"
     ]
    }
   ],
   "source": [
    "#10. 09/07 종가를 첫 항목으로 하는 naver_closing_price 종가 리스트 생성\n",
    "\n",
    "naver='''\n",
    "날짜\t요일\t종가\n",
    "09/11\t금\t488,500\n",
    "09/10\t목\t500,500\n",
    "09/09\t수\t501,000\n",
    "09/08\t화\t461,500\n",
    "09/07\t월\t474,500'''\n",
    "\n",
    "pat=re.compile('\\d+,\\d+',re.MULTILINE)\n",
    "naver_closing_price=pat.findall(naver)\n",
    "print(naver_closing_price)"
   ]
  },
  {
   "cell_type": "code",
   "execution_count": 13,
   "metadata": {},
   "outputs": [
    {
     "name": "stdout",
     "output_type": "stream",
     "text": [
      "501,000 원\n"
     ]
    }
   ],
   "source": [
    "#11. 가장 높았던 가격 출력\n",
    "\n",
    "max_price=max(naver_closing_price)\n",
    "print(max_price,'원')"
   ]
  },
  {
   "cell_type": "code",
   "execution_count": 14,
   "metadata": {},
   "outputs": [
    {
     "name": "stdout",
     "output_type": "stream",
     "text": [
      "461,500 원\n"
     ]
    }
   ],
   "source": [
    "#12. 가장 낮았던 가격 출력\n",
    "\n",
    "min_price=min(naver_closing_price)\n",
    "print(min_price,'원')"
   ]
  },
  {
   "cell_type": "code",
   "execution_count": 15,
   "metadata": {},
   "outputs": [
    {
     "name": "stdout",
     "output_type": "stream",
     "text": [
      "39500 원\n"
     ]
    }
   ],
   "source": [
    "#13. 가장 종가가 높았던 요일과 가장 종가가 낮았던 요일의 가격 차를 화면에 출력\n",
    "\n",
    "max_frag=max_price.split(',')\n",
    "min_frag=min_price.split(',')\n",
    "max_price=''.join(max_frag)\n",
    "min_price=''.join(min_frag)\n",
    "print(int(max_price)-int(min_price),'원')"
   ]
  },
  {
   "cell_type": "code",
   "execution_count": 16,
   "metadata": {},
   "outputs": [
    {
     "name": "stdout",
     "output_type": "stream",
     "text": [
      "501,000 원\n"
     ]
    }
   ],
   "source": [
    "#14. 수요일의 종가를 화면에 출력\n",
    "\n",
    "print(naver_closing_price[2],'원')"
   ]
  },
  {
   "cell_type": "code",
   "execution_count": 17,
   "metadata": {},
   "outputs": [
    {
     "name": "stdout",
     "output_type": "stream",
     "text": [
      "{'09/11': '488,500', '09/10': '500,500', '09/09': '501,000', '09/08': '461,500', '09/07': '474,500'}\n"
     ]
    }
   ],
   "source": [
    "#15. 문제 10의 정보를 이용해 날짜를 키값으로, 종가를 딕셔너리 값으로 하는 \n",
    "#naver_closing_price2라는 딕셔너리 생성\n",
    "\n",
    "naver='''\n",
    "날짜\t요일\t종가\n",
    "09/11\t금\t488,500\n",
    "09/10\t목\t500,500\n",
    "09/09\t수\t501,000\n",
    "09/08\t화\t461,500\n",
    "09/07\t월\t474,500'''\n",
    "\n",
    "day=re.findall('\\d+/\\d+',naver,re.MULTILINE)\n",
    "price=re.findall('\\d+,\\d+',naver,re.MULTILINE)\n",
    "\n",
    "naver_closing_price2={}\n",
    "for i in range(len(day)):\n",
    "    naver_closing_price2[day[i]]=price[i]\n",
    "print(naver_closing_price2)"
   ]
  },
  {
   "cell_type": "code",
   "execution_count": 18,
   "metadata": {},
   "outputs": [
    {
     "name": "stdout",
     "output_type": "stream",
     "text": [
      "501,000 원\n"
     ]
    }
   ],
   "source": [
    "#16. naver_closing_price2 딕셔너리를 이용해 09/09일의 종가를 출력\n",
    "\n",
    "print(naver_closing_price2['09/09'],'원')"
   ]
  },
  {
   "cell_type": "code",
   "execution_count": 19,
   "metadata": {},
   "outputs": [
    {
     "name": "stdout",
     "output_type": "stream",
     "text": [
      "102 호 배달 완료\n",
      "103 호 배달 완료\n",
      "104 호 배달 완료\n",
      "201 호 배달 완료\n",
      "202 호 배달 완료\n",
      "204 호 배달 완료\n",
      "302 호 배달 완료\n",
      "303 호 배달 완료\n",
      "304 호 배달 완료\n",
      "401 호 배달 완료\n",
      "402 호 배달 완료\n",
      "403 호 배달 완료\n"
     ]
    }
   ],
   "source": [
    "#17. 중첩 루프를 이용해 신문 배달을 하는 프로그램을 작성\n",
    "#arrears 리스트는 신문 구독료가 미납된 세대이며, 해당 세대에는 신문을 배달 X\n",
    "\n",
    "apart = [[101, 102, 103, 104],[201, 202, 203, 204],[301, 302, 303, 304], [401, 402, 403, 404]]\n",
    "arrears = [101, 203, 301, 404]\n",
    "\n",
    "for i in apart:\n",
    "    go=(set(i)-set(arrears))\n",
    "    go=sorted(go)\n",
    "    for j in go:\n",
    "        print('%d 호 배달 완료' %j)"
   ]
  },
  {
   "cell_type": "code",
   "execution_count": 2,
   "metadata": {},
   "outputs": [
    {
     "name": "stdout",
     "output_type": "stream",
     "text": [
      "값을 입력하세요 :1,2\n",
      "1.5\n"
     ]
    }
   ],
   "source": [
    "#18. 두 개의 정수 값을 받아 두 값의 평균을 구하는 함수 작성\n",
    "\n",
    "def myaverage(a, b):\n",
    "    return print((a+b)/2)\n",
    "\n",
    "a,b=map(int,input('값을 입력하세요 :').split(','))\n",
    "myaverage(a,b)"
   ]
  },
  {
   "cell_type": "code",
   "execution_count": 24,
   "metadata": {},
   "outputs": [
    {
     "name": "stdout",
     "output_type": "stream",
     "text": [
      "리스트를 입력하세요 :1,5,8,7,4,6,5\n",
      "최댓값 : 8 최솟값 : 1\n"
     ]
    }
   ],
   "source": [
    "#19. 리스트를 받은 후 리스트 내 모든 정수 값에 대한 최댓값과 최솟값을 반환\n",
    "#하는 함수 작성\n",
    "\n",
    "def get_max_min(data_list):\n",
    "    return print('최댓값 :',max(data_list),'최솟값 :',min(data_list))\n",
    "\n",
    "num=list(map(int,input('리스트를 입력하세요 :').split(',')))\n",
    "get_max_min(num)"
   ]
  },
  {
   "cell_type": "code",
   "execution_count": 27,
   "metadata": {},
   "outputs": [
    {
     "data": {
      "text/plain": [
       "['C:/Users\\\\student\\\\Desktop\\\\TIL_new\\\\Python 기초\\\\대화추출.txt',\n",
       " 'C:/Users\\\\student\\\\Desktop\\\\TIL_new\\\\Python 기초\\\\쥬피터 노트북 단축키.txt',\n",
       " 'C:/Users\\\\student\\\\Desktop\\\\TIL_new\\\\Python 기초\\\\토지.txt']"
      ]
     },
     "execution_count": 27,
     "metadata": {},
     "output_type": "execute_result"
    }
   ],
   "source": [
    "#20. 절대 경로를 입력받은 후 해당 경로에 있는 *.txt 파일의 목록을 파이썬 리스트\n",
    "#로 반환하는 함수를 작성\n",
    "\n",
    "import glob\n",
    "\n",
    "def get_txt_list(path):\n",
    "    return glob.glob(path+'\\*.txt')\n",
    "\n",
    "path='C:/Users\\student\\Desktop\\TIL_new\\Python 기초'\n",
    "get_txt_list(path)"
   ]
  },
  {
   "cell_type": "code",
   "execution_count": 32,
   "metadata": {},
   "outputs": [
    {
     "name": "stdout",
     "output_type": "stream",
     "text": [
      "키, 몸무게 :150,50\n",
      "22.22\n",
      "표준\n"
     ]
    }
   ],
   "source": [
    "#21. BMI 지수에 따라 '마른체형','표준','비만','고도 비만''중 하나를 출력하는 \n",
    "#함수를 작성\n",
    "'''BMI <18.5, 마른체형\n",
    "18.5 <= BMI < 25.0, 표준\n",
    "25.0 <= BMI < 30.0, 비만\n",
    "BMI >= 30.0, 고도 비만'''\n",
    "\n",
    "def cal_BMI(ht,wt):\n",
    "    BMI=round(wt/((ht/100)**2),2)\n",
    "    print(BMI)\n",
    "    if BMI<18.5: print('마른체형')\n",
    "    elif 18.5<=BMI<25.0: print('표준')\n",
    "    elif 25.0<=BMI<30.0: print('비만')\n",
    "    elif 30.0<BMI: print('고도비만')\n",
    "    else: print('error')\n",
    "        \n",
    "ht,wt=map(int,input('키, 몸무게 :').split(','))\n",
    "cal_BMI(ht,wt)"
   ]
  },
  {
   "cell_type": "code",
   "execution_count": null,
   "metadata": {},
   "outputs": [],
   "source": [
    "#22. 키(cm)와 몸무게(kg)를 입력받은 후 BMI 값과 BMI 값에 따른 체형 정보를 출력\n",
    "#하는 프로그램을 작성 \n",
    "#작성된 프로그램은 계속해서 키와 몸무게를 입력받은 후 BMI 및 체형 정보를 출력\n",
    "#해야 함(무한 루프 구조).\n",
    "\n",
    "while True:\n",
    "    ht,wt=map(int,input('키, 몸무게 :').split(','))\n",
    "    cal_BMI(wt,ht)"
   ]
  },
  {
   "cell_type": "code",
   "execution_count": 33,
   "metadata": {},
   "outputs": [
    {
     "name": "stdout",
     "output_type": "stream",
     "text": [
      "밑변, 높이 :2,5\n"
     ]
    },
    {
     "data": {
      "text/plain": [
       "5.0"
      ]
     },
     "execution_count": 33,
     "metadata": {},
     "output_type": "execute_result"
    }
   ],
   "source": [
    "#23. 삼각형의 밑변과 높이를 입력받은 후 삼각형의 면적을 계산하는 함수를 작성\n",
    "\n",
    "def get_triangle_area(width, height):\n",
    "    return width*height/2\n",
    "\n",
    "wt,ht=map(int,input('밑변, 높이 :').split(','))\n",
    "get_triangle_area(wt,ht)"
   ]
  },
  {
   "cell_type": "code",
   "execution_count": 35,
   "metadata": {},
   "outputs": [
    {
     "name": "stdout",
     "output_type": "stream",
     "text": [
      "시작값, 끝값 :1,10\n"
     ]
    },
    {
     "data": {
      "text/plain": [
       "55"
      ]
     },
     "execution_count": 35,
     "metadata": {},
     "output_type": "execute_result"
    }
   ],
   "source": [
    "#24. 시작과 끝값을 받아 시작부터 끝까지의 모든 정수값의 합을 반환하는 함수 작성\n",
    "\n",
    "def add_start_to_end(start, end):\n",
    "    return sum(list(range(start,end+1)))\n",
    "\n",
    "st,ed=map(int,input('시작값, 끝값 :').split(','))\n",
    "add_start_to_end(st,ed)"
   ]
  },
  {
   "cell_type": "code",
   "execution_count": 38,
   "metadata": {},
   "outputs": [
    {
     "name": "stdout",
     "output_type": "stream",
     "text": [
      "['Seo', 'Dae', 'Kwa', 'Jej']\n"
     ]
    }
   ],
   "source": [
    "#25. 문자열을 포함하는 리스트가 입력될 때 각 문자열의 첫 세 글자로만 구성된\n",
    "#리스트를 반환하는 함수를 작성\n",
    "\n",
    "def first3(data_list):\n",
    "    res=[]\n",
    "    for i in data_list:\n",
    "        res.append(i[:3])\n",
    "    print(res)\n",
    "\n",
    "str_list=['Seoul', 'Daegu', 'Kwangju', 'Jeju']\n",
    "first3(str_list)"
   ]
  },
  {
   "cell_type": "code",
   "execution_count": 37,
   "metadata": {},
   "outputs": [
    {
     "name": "stdout",
     "output_type": "stream",
     "text": [
      "주어진 수 : [1, 6, 7, 1, 9, 4]\n",
      "Noooooooo\n"
     ]
    }
   ],
   "source": [
    "#보너스 문제 (Baby-gin Game)\n",
    "\n",
    "import random\n",
    "\n",
    "# 0-9 중 6개의 숫자 추첨(중복 허용)\n",
    "nums=[]\n",
    "for i in range(6):\n",
    "    nums.append(random.randint(0,9))\n",
    "\n",
    "# Baby-gin 여부 판단 함수\n",
    "def judge(nums):\n",
    "    \n",
    "    for i in set(nums):\n",
    "        if nums.count(i)%3==0:       # triplet 존재 유무 확인\n",
    "            for j in range(nums.count(i)):\n",
    "                nums.remove(i)        # triplet에 해당되는 숫자 제거\n",
    "    \n",
    "    for k in range(int(len(nums)/3)): # run 존재 유무 확인\n",
    "        run_list=[min(nums),min(nums)+1,min(nums)+2]\n",
    "        for l in run_list:            \n",
    "            try: nums.remove(l)        # run에 해당되는 숫자 제거\n",
    "            except:break\n",
    "    \n",
    "    if nums==[]:                      # triplet이나 run에 모든 수가 해당되어\n",
    "        print('Baby-gin!!')           # num이 빈 리스트가 된 경우 Baby-gin 출력\n",
    "    else: print('Noooooooo')\n",
    "\n",
    "print('주어진 수 :',nums)\n",
    "judge(nums)"
   ]
  },
  {
   "cell_type": "code",
   "execution_count": null,
   "metadata": {},
   "outputs": [],
   "source": []
  }
 ],
 "metadata": {
  "kernelspec": {
   "display_name": "Python 3",
   "language": "python",
   "name": "python3"
  },
  "language_info": {
   "codemirror_mode": {
    "name": "ipython",
    "version": 3
   },
   "file_extension": ".py",
   "mimetype": "text/x-python",
   "name": "python",
   "nbconvert_exporter": "python",
   "pygments_lexer": "ipython3",
   "version": "3.7.4"
  }
 },
 "nbformat": 4,
 "nbformat_minor": 2
}
