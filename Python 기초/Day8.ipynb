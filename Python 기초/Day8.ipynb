{
 "cells": [
  {
   "cell_type": "code",
   "execution_count": null,
   "metadata": {},
   "outputs": [],
   "source": [
    "#최소의 동전을 사용해 거스름돈 반환 (100/60/10)\n",
    "#해답 : Backtracking(되추적),DP(동적 계획법)"
   ]
  },
  {
   "cell_type": "code",
   "execution_count": 16,
   "metadata": {},
   "outputs": [
    {
     "name": "stdout",
     "output_type": "stream",
     "text": [
      "<re.Match object; span=(0, 0), match=''>\n"
     ]
    }
   ],
   "source": [
    "import re\n",
    "print(re.match('a?','b'))"
   ]
  },
  {
   "cell_type": "code",
   "execution_count": 26,
   "metadata": {},
   "outputs": [
    {
     "name": "stdout",
     "output_type": "stream",
     "text": [
      "<re.Match object; span=(0, 5), match='ㅋㅋㅋ안녕'>\n"
     ]
    }
   ],
   "source": [
    "print(re.match(\"[ㄱ-ㅎ가-힣]+\",'ㅋㅋㅋ안녕'))"
   ]
  },
  {
   "cell_type": "code",
   "execution_count": 37,
   "metadata": {},
   "outputs": [
    {
     "name": "stdout",
     "output_type": "stream",
     "text": [
      "<re.Match object; span=(6, 9), match='456'>\n"
     ]
    }
   ],
   "source": [
    "print(re.search('[0-9]+$','123abc456'))"
   ]
  },
  {
   "cell_type": "code",
   "execution_count": 41,
   "metadata": {},
   "outputs": [
    {
     "name": "stdout",
     "output_type": "stream",
     "text": [
      "<re.Match object; span=(1, 3), match='**'>\n"
     ]
    }
   ],
   "source": [
    "print(re.search('\\*+','3**8')) #중간이나 뒤어 있는 패턴은 search 활용"
   ]
  },
  {
   "cell_type": "code",
   "execution_count": 48,
   "metadata": {},
   "outputs": [
    {
     "name": "stdout",
     "output_type": "stream",
     "text": [
      "<re.Match object; span=(2, 3), match=' '>\n"
     ]
    }
   ],
   "source": [
    "print(re.search('\\s','aB 가 10')) #\\s: 공백문자"
   ]
  },
  {
   "cell_type": "code",
   "execution_count": 53,
   "metadata": {},
   "outputs": [
    {
     "name": "stdout",
     "output_type": "stream",
     "text": [
      "<re.Match object; span=(0, 3), match='123'>\n",
      "None\n"
     ]
    }
   ],
   "source": [
    "pat=re.compile('[0-9]+')\n",
    "print(pat.match('123'))\n",
    "print(pat.match('abc'))"
   ]
  },
  {
   "cell_type": "code",
   "execution_count": 66,
   "metadata": {},
   "outputs": [],
   "source": [
    "p=re.compile('[a-z]+')"
   ]
  },
  {
   "cell_type": "code",
   "execution_count": 67,
   "metadata": {},
   "outputs": [
    {
     "name": "stdout",
     "output_type": "stream",
     "text": [
      "<re.Match object; span=(2, 8), match='python'>\n"
     ]
    }
   ],
   "source": [
    "res=p.search('9 python 7 java')\n",
    "print(res)"
   ]
  },
  {
   "cell_type": "code",
   "execution_count": 68,
   "metadata": {},
   "outputs": [
    {
     "name": "stdout",
     "output_type": "stream",
     "text": [
      "['ife', 'is', 'too', 'short']\n"
     ]
    }
   ],
   "source": [
    "res=p.findall('Life is too short')\n",
    "print(res)"
   ]
  },
  {
   "cell_type": "code",
   "execution_count": 80,
   "metadata": {},
   "outputs": [
    {
     "name": "stdout",
     "output_type": "stream",
     "text": [
      "<callable_iterator object at 0x000002496C7B1288>\n",
      "ife 1 4 (1, 4)\n",
      "is 5 7 (5, 7)\n",
      "too 8 11 (8, 11)\n",
      "short 12 17 (12, 17)\n"
     ]
    }
   ],
   "source": [
    "res=p.finditer('Life is too short')\n",
    "print(res)\n",
    "\n",
    "for r in res:\n",
    "    print(r.group(),end=' ') # .group : 해당하는 문자열 출력\n",
    "    print(r.start(),end=' ') # .start : 매치 시작 위치\n",
    "    print(r.end(),end=' ')   # .end : 매치 끝 위치\n",
    "    print(r.span())  # .span : 매치 시작, 끝 위치"
   ]
  },
  {
   "cell_type": "code",
   "execution_count": 83,
   "metadata": {},
   "outputs": [
    {
     "data": {
      "text/plain": [
       "<re.Match object; span=(0, 5), match='multi'>"
      ]
     },
     "execution_count": 83,
     "metadata": {},
     "output_type": "execute_result"
    }
   ],
   "source": [
    "p=re.compile('[a-z]+')\n",
    "m=p.match('multi')\n",
    "# 둘은 같은 의미!!\n",
    "re.match('[a-z]+','multi')"
   ]
  },
  {
   "cell_type": "code",
   "execution_count": 88,
   "metadata": {},
   "outputs": [
    {
     "name": "stdout",
     "output_type": "stream",
     "text": [
      "<re.Match object; span=(0, 3), match='aBb'>\n"
     ]
    }
   ],
   "source": [
    "p=re.compile('[a-b]+',re.I)\n",
    "m=p.match('aBb')\n",
    "print(m)"
   ]
  },
  {
   "cell_type": "code",
   "execution_count": 97,
   "metadata": {},
   "outputs": [
    {
     "name": "stdout",
     "output_type": "stream",
     "text": [
      "['python one']\n",
      "['python one', 'python two']\n"
     ]
    }
   ],
   "source": [
    "text=\"\"\"python one\n",
    "python two\n",
    "you need python\"\"\"\n",
    "\n",
    "p=re.compile('^python\\s\\w+') #문자열 가장 앞에 나오는 python~만 해당\n",
    "print(p.findall(text))\n",
    "\n",
    "p=re.compile('^python\\s\\w+',re.MULTILINE) #각 문자열에 대해 수행\n",
    "print(p.findall(text))"
   ]
  },
  {
   "cell_type": "code",
   "execution_count": 100,
   "metadata": {},
   "outputs": [
    {
     "data": {
      "text/plain": [
       "<re.Match object; span=(0, 3), match='Bye'>"
      ]
     },
     "execution_count": 100,
     "metadata": {},
     "output_type": "execute_result"
    }
   ],
   "source": [
    "pat=re.compile('Bye|Hi')\n",
    "pat.match('ByeHello')"
   ]
  },
  {
   "cell_type": "code",
   "execution_count": 102,
   "metadata": {},
   "outputs": [
    {
     "name": "stdout",
     "output_type": "stream",
     "text": [
      "<re.Match object; span=(0, 4), match='Life'>\n",
      "<re.Match object; span=(12, 17), match='short'>\n"
     ]
    }
   ],
   "source": [
    "print(re.search('^Life','Life is too short'))\n",
    "print(re.search('short$','Life is too short'))"
   ]
  },
  {
   "cell_type": "code",
   "execution_count": 104,
   "metadata": {},
   "outputs": [
    {
     "data": {
      "text/plain": [
       "<re.Match object; span=(0, 9), match='xyzxyzxyz'>"
      ]
     },
     "execution_count": 104,
     "metadata": {},
     "output_type": "execute_result"
    }
   ],
   "source": [
    "p=re.compile('(xyz)+')\n",
    "m=p.search('xyzxyzxyzxy ok')\n",
    "m"
   ]
  },
  {
   "cell_type": "code",
   "execution_count": 106,
   "metadata": {},
   "outputs": [
    {
     "name": "stdout",
     "output_type": "stream",
     "text": [
      "xyzxyzxyz\n"
     ]
    }
   ],
   "source": [
    "print(m.group())"
   ]
  },
  {
   "cell_type": "code",
   "execution_count": 117,
   "metadata": {},
   "outputs": [
    {
     "data": {
      "text/plain": [
       "<re.Match object; span=(0, 17), match='kim 010-1234-5678'>"
      ]
     },
     "execution_count": 117,
     "metadata": {},
     "output_type": "execute_result"
    }
   ],
   "source": [
    "text='kim 010-1234-5678'\n",
    "#text='hong 02-134-5678'\n",
    "#text='lee seoul'\n",
    "#text='park 010 1234 5656'\n",
    "\n",
    "pat=re.compile('\\w+\\s+\\d+-\\d+-\\d+')\n",
    "\n",
    "m=pat.match(text)\n",
    "m"
   ]
  },
  {
   "cell_type": "code",
   "execution_count": 122,
   "metadata": {},
   "outputs": [
    {
     "name": "stdout",
     "output_type": "stream",
     "text": [
      "kim\n",
      "kim 010-1234-5678\n"
     ]
    }
   ],
   "source": [
    "text='kim 010-1234-5678'\n",
    "pat=re.compile('(\\w+)\\s+\\d+-\\d+-\\d+')\n",
    "m=pat.match(text)\n",
    "print(m.group(1))\n",
    "print(m.group(0)) #매칭된 전체 문자열 반환"
   ]
  },
  {
   "cell_type": "code",
   "execution_count": 124,
   "metadata": {},
   "outputs": [
    {
     "name": "stdout",
     "output_type": "stream",
     "text": [
      "kim\n",
      "010\n",
      "1234\n",
      "5678\n"
     ]
    }
   ],
   "source": [
    "text='kim 010-1234-5678'\n",
    "pat=re.compile('(\\w+)\\s+(\\d+)-(\\d+)-(\\d+)')\n",
    "m=pat.match(text)\n",
    "print(m.group(1))\n",
    "print(m.group(2))\n",
    "print(m.group(3))\n",
    "print(m.group(4))"
   ]
  },
  {
   "cell_type": "code",
   "execution_count": 127,
   "metadata": {},
   "outputs": [
    {
     "name": "stdout",
     "output_type": "stream",
     "text": [
      "kim\n",
      "010\n",
      "1234-5678\n",
      "1234\n",
      "5678\n"
     ]
    }
   ],
   "source": [
    "text='kim 010-1234-5678'\n",
    "pat=re.compile('(\\w+)\\s+(\\d+)-((\\d+)-(\\d+))')\n",
    "m=pat.match(text)\n",
    "print(m.group(1))\n",
    "print(m.group(2))\n",
    "print(m.group(3))\n",
    "print(m.group(4))\n",
    "print(m.group(5))"
   ]
  },
  {
   "cell_type": "code",
   "execution_count": 135,
   "metadata": {},
   "outputs": [
    {
     "name": "stdout",
     "output_type": "stream",
     "text": [
      "kim\n",
      "1234-5678\n"
     ]
    }
   ],
   "source": [
    "text='kim 010-1234-5678'\n",
    "pat=re.compile('(?P<name>\\w+)\\s+(\\d+)-(?P<number>(\\d+)-(\\d+))')\n",
    "m=pat.match(text)\n",
    "print(m.group('name'))\n",
    "print(m.group('number'))"
   ]
  },
  {
   "cell_type": "code",
   "execution_count": 145,
   "metadata": {},
   "outputs": [
    {
     "data": {
      "text/plain": [
       "\"You R dozing off. I'm also sleepy.\""
      ]
     },
     "execution_count": 145,
     "metadata": {},
     "output_type": "execute_result"
    }
   ],
   "source": [
    "#텍스트 수집 -> 전처리 -> 워드임베딩(숫자로 변환,인코딩) -> 얕은/깊은 신경망\n",
    "#모델링 -> 분류/예측...\n",
    "pat=re.compile('are')\n",
    "pat.sub('R',\"You are dozing off. I'm also sleepy.\")"
   ]
  },
  {
   "cell_type": "code",
   "execution_count": 147,
   "metadata": {},
   "outputs": [
    {
     "data": {
      "text/plain": [
       "'대한민국 대한민국 대한민국 대한민국 대한민국'"
      ]
     },
     "execution_count": 147,
     "metadata": {},
     "output_type": "execute_result"
    }
   ],
   "source": [
    "pat=re.compile('우리나라|좋은나라|한국|코리아')\n",
    "pat.sub('대한민국','우리나라 좋은나라 한국 코리아 대한민국')"
   ]
  },
  {
   "cell_type": "code",
   "execution_count": null,
   "metadata": {},
   "outputs": [],
   "source": []
  }
 ],
 "metadata": {
  "kernelspec": {
   "display_name": "Python 3",
   "language": "python",
   "name": "python3"
  },
  "language_info": {
   "codemirror_mode": {
    "name": "ipython",
    "version": 3
   },
   "file_extension": ".py",
   "mimetype": "text/x-python",
   "name": "python",
   "nbconvert_exporter": "python",
   "pygments_lexer": "ipython3",
   "version": "3.7.4"
  }
 },
 "nbformat": 4,
 "nbformat_minor": 2
}
