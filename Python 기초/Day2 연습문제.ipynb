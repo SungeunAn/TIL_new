{
 "cells": [
  {
   "cell_type": "code",
   "execution_count": 291,
   "metadata": {},
   "outputs": [
    {
     "name": "stdout",
     "output_type": "stream",
     "text": [
      "921101\n",
      "1231234\n"
     ]
    }
   ],
   "source": [
    "#1 921101-1231234에서 연월일과 그 뒤의 숫자 부분을 나누어 출력\n",
    "a='921101-1231234'\n",
    "#a='921101-1231234'.split('-') : 간단한 방법\n",
    "hypen=a.find('-')\n",
    "front = a[:hypen]\n",
    "latter = a[hypen+1:]\n",
    "print(front)\n",
    "print(latter)\n",
    "\n"
   ]
  },
  {
   "cell_type": "code",
   "execution_count": 292,
   "metadata": {},
   "outputs": [
    {
     "name": "stdout",
     "output_type": "stream",
     "text": [
      "1\n"
     ]
    }
   ],
   "source": [
    "#2. 위의 주민번호에서 성별을 나타내는 숫자 출력\n",
    "print(latter[0])"
   ]
  },
  {
   "cell_type": "code",
   "execution_count": 290,
   "metadata": {},
   "outputs": [
    {
     "data": {
      "text/plain": [
       "'a#b#c#d'"
      ]
     },
     "execution_count": 290,
     "metadata": {},
     "output_type": "execute_result"
    }
   ],
   "source": [
    "#3. 문자열 a:b:c:d를 a#b#c#d로 변경\n",
    "l = 'a:b:c:d'\n",
    "l = l.split(':')\n",
    "l = '#'.join(l)\n",
    "l"
   ]
  },
  {
   "cell_type": "code",
   "execution_count": 293,
   "metadata": {},
   "outputs": [
    {
     "data": {
      "text/plain": [
       "'How are you'"
      ]
     },
     "execution_count": 293,
     "metadata": {},
     "output_type": "execute_result"
    }
   ],
   "source": [
    "#4. ['How','are','you']리스트에서 join 함수를 이용해 How are you를 출력\n",
    "words = ['How','are','you']\n",
    "sen = ' '.join(words)\n",
    "sen"
   ]
  },
  {
   "cell_type": "code",
   "execution_count": 308,
   "metadata": {},
   "outputs": [
    {
     "data": {
      "text/plain": [
       "[5, 3, 1, -1, -3]"
      ]
     },
     "execution_count": 308,
     "metadata": {},
     "output_type": "execute_result"
    }
   ],
   "source": [
    "#5. 리스트 [5,3,1,-1,-3]이 출력되도록 range를 써서 코드 작성\n",
    "num = list(range(5,-4,-2))\n",
    "num"
   ]
  },
  {
   "cell_type": "code",
   "execution_count": 301,
   "metadata": {},
   "outputs": [
    {
     "data": {
      "text/plain": [
       "4000"
      ]
     },
     "execution_count": 301,
     "metadata": {},
     "output_type": "execute_result"
    }
   ],
   "source": [
    "#6. 1부터 10000까지 8이라는 숫자가 총 몇 번 나오는가?\n",
    "count_8 = list(range(1,10001))\n",
    "count_8 = str(count_8)      #count 함수는 str에만 적용되기 때문에 str으로 변환\n",
    "count_8 = count_8.count('8')\n",
    "count_8"
   ]
  }
 ],
 "metadata": {
  "kernelspec": {
   "display_name": "Python 3",
   "language": "python",
   "name": "python3"
  },
  "language_info": {
   "codemirror_mode": {
    "name": "ipython",
    "version": 3
   },
   "file_extension": ".py",
   "mimetype": "text/x-python",
   "name": "python",
   "nbconvert_exporter": "python",
   "pygments_lexer": "ipython3",
   "version": "3.7.4"
  }
 },
 "nbformat": 4,
 "nbformat_minor": 2
}
