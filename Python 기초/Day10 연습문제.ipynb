{
 "cells": [
  {
   "cell_type": "code",
   "execution_count": 233,
   "metadata": {},
   "outputs": [],
   "source": [
    "# 1. 다음의 조건을 만족하는 Point라는 클래스를 작성하세요.\n",
    "# Point 클래스는 생성자(__init__)를 통해 (x, y) 좌표를 입력받는다.\n",
    "# setx(x), sety(y) 메서드를 통해 x 좌표와 y 좌표를 따로 입력받을 수도 있다.\n",
    "# get() 메서드를 호출하면 튜플로 구성된 (x, y) 좌표를 반환한다.\n",
    "# move(dx, dy) 메서드는 현재 좌표를 dx, dy만큼 이동시킨다.\n",
    "\n",
    "class Point:\n",
    "    def __init__(self):\n",
    "        self.x=0\n",
    "        self.y=0\n",
    "    def setx(self, a):\n",
    "        self.x=a\n",
    "    def sety(self, b):\n",
    "        self.y=b\n",
    "    def move(self, dx, dy):\n",
    "        self.x+=dx\n",
    "        self.y+=dy\n",
    "    def get(self):\n",
    "        return self.x, self.y"
   ]
  },
  {
   "cell_type": "code",
   "execution_count": 235,
   "metadata": {},
   "outputs": [
    {
     "data": {
      "text/plain": [
       "(5, -2)"
      ]
     },
     "execution_count": 235,
     "metadata": {},
     "output_type": "execute_result"
    }
   ],
   "source": [
    "# 2. Point 클래스에 대한 인스턴스를 생성한 후 4개의 메서드를 사용하는 코드를 작성\n",
    "\n",
    "posi=Point()\n",
    "posi.setx(3)\n",
    "posi.sety(-5)\n",
    "posi.move(2,3)\n",
    "posi.get()"
   ]
  },
  {
   "cell_type": "code",
   "execution_count": 239,
   "metadata": {},
   "outputs": [],
   "source": [
    "# 3. 1부터 10까지의 숫자를 각 라인 단위로 파일에 출력하는 프로그램을 작성\n",
    "# 생성되는 파일의 이름은 number.txt\n",
    "\n",
    "with open('number.txt','w') as f1:\n",
    "    for i in range(1,11):\n",
    "        f1.write(str(i)+'\\n')"
   ]
  },
  {
   "cell_type": "code",
   "execution_count": 247,
   "metadata": {},
   "outputs": [
    {
     "name": "stdout",
     "output_type": "stream",
     "text": [
      "C:/Users\\student\\Desktop\\TIL_new\\Python 기초\n"
     ]
    }
   ],
   "source": [
    "# 4. 경로를 입력받은 후 해당 경로에 있는 디렉터리와 파일 목록을 flist.txt라는\n",
    "# 파일로 출력하는 함수를 작성\n",
    "\n",
    "import glob\n",
    "\n",
    "path=input()\n",
    "with open('flist.txt','w') as f2:\n",
    "    files=glob.glob(path+'\\*')\n",
    "    for i in files:\n",
    "        f2.write(i+'\\n')"
   ]
  },
  {
   "cell_type": "code",
   "execution_count": 373,
   "metadata": {},
   "outputs": [],
   "source": [
    "# 5. 윤동주 시인 방송 출연 년월일 추출(화요일 수업내용 중)\n",
    "\n",
    "# 미완성 코드 : 1박 2일에서 2일도 같이 출력되어버림\n",
    "# from urllib import request as req\n",
    "# from bs4 import BeautifulSoup\n",
    "\n",
    "# url='https://ko.wikipedia.org/wiki/%EC%9C%A4%EB%8F%99%EC%A3%BC#%EB%B0%A9%EC%86%A1'\n",
    "# temp=req.urlopen(url)\n",
    "# soup=BeautifulSoup(temp,'html.parser')\n",
    "# selector='#mw-content-text > div > ul:nth-child(71) li'\n",
    "# whole=soup.select(selector)\n",
    "\n",
    "# res=[]\n",
    "# for i in whole:\n",
    "#     j=str(i)\n",
    "#     pat1=re.search('\\d+년',j).group()\n",
    "#     pat2=re.search('\\d+월',j).group()\n",
    "#     pat3=re.search('\\d+일',j).group()\n",
    "#     res.append(str(pat1)+' '+str(pat2)+' '+str(pat3))\n",
    "# res"
   ]
  },
  {
   "cell_type": "code",
   "execution_count": 372,
   "metadata": {},
   "outputs": [
    {
     "data": {
      "text/plain": [
       "['1984년 12월 22일',\n",
       " '1988년 3월 1일',\n",
       " '1995년 3월 11일',\n",
       " '2006년 7월 31일',\n",
       " '2009년 8월 15일',\n",
       " '2011년 11월 4일',\n",
       " '2016년 3월 6일']"
      ]
     },
     "execution_count": 372,
     "metadata": {},
     "output_type": "execute_result"
    }
   ],
   "source": [
    "# 5. 윤동주 시인 방송 출연 년월일 추출(화요일 수업내용 중)\n",
    "\n",
    "from urllib import request as req\n",
    "from bs4 import BeautifulSoup\n",
    "\n",
    "url='https://ko.wikipedia.org/wiki/%EC%9C%A4%EB%8F%99%EC%A3%BC#%EB%B0%A9%EC%86%A1'\n",
    "temp=req.urlopen(url)\n",
    "soup=BeautifulSoup(temp,'html.parser')\n",
    "selector='#mw-content-text > div > ul:nth-child(71) > li'\n",
    "whole=soup.select(selector)\n",
    "\n",
    "text=[]\n",
    "for i in whole:\n",
    "    text.append(i.get_text()) # 텍스트 정보만 text에 출력\n",
    "\n",
    "res=[]\n",
    "for j in text:\n",
    "    pat=re.search('\\d+년 \\d+월 \\d+일',j)\n",
    "    if pat!=None:\n",
    "        res.append(str(pat.group()))\n",
    "res    "
   ]
  },
  {
   "cell_type": "code",
   "execution_count": 344,
   "metadata": {},
   "outputs": [
    {
     "name": "stdout",
     "output_type": "stream",
     "text": [
      "기압골의 영향으로 6일부터 8일 사이에 전국에 비 또는 눈이 오겠고, 제주도는 10~11일에도 비가 오겠습니다. <br />한편, 동풍의 영향으로 9일은 강원영동에 비 또는 눈이 오겠습니다. 그 밖의 날은 고기압의 가장자리에 들어 가끔 구름많겠습니다.<br />기온은 평년(최저기온: -12~0℃, 최고기온: 0~8℃)보다 높겠습니다.<br />강수량은 평년(0~3mm)보다 많겠습니다.\n"
     ]
    },
    {
     "data": {
      "text/plain": [
       "'기압골의 영향으로 일부터 일 사이에 전국에 비 또는 눈이 오겠고 제주도는 일에도 비가 오겠습니다  한편 동풍의 영향으로 일은 강원영동에 비 또는 눈이 오겠습니다 그 밖의 날은 고기압의 가장자리에 들어 가끔 구름많겠습니다 기온은 평년최저기온  최고기온 보다 높겠습니다 강수량은 평년보다 많겠습니다'"
      ]
     },
     "execution_count": 344,
     "metadata": {},
     "output_type": "execute_result"
    }
   ],
   "source": [
    "# 6. 영문, 숫자 포함하여 특수문자 모두 제거(오늘 수업내용 중)\n",
    "\n",
    "url='http://www.weather.go.kr/weather/forecast/mid-term-rss3.jsp'\n",
    "res=req.urlopen(url)\n",
    "soup=BeautifulSoup(res, 'html.parser')\n",
    "text=soup.select(selector)\n",
    "\n",
    "#wf태그값 추출\n",
    "wf_tag=soup.find('wf').string\n",
    "print(wf_tag)\n",
    "\n",
    "pat=re.compile('[가-힣\\s]+')\n",
    "res=pat.findall(str(wf_tag))\n",
    "only_ko=''\n",
    "for i in res:\n",
    "    only_ko+=i\n",
    "only_ko"
   ]
  }
 ],
 "metadata": {
  "kernelspec": {
   "display_name": "Python 3",
   "language": "python",
   "name": "python3"
  },
  "language_info": {
   "codemirror_mode": {
    "name": "ipython",
    "version": 3
   },
   "file_extension": ".py",
   "mimetype": "text/x-python",
   "name": "python",
   "nbconvert_exporter": "python",
   "pygments_lexer": "ipython3",
   "version": "3.7.4"
  }
 },
 "nbformat": 4,
 "nbformat_minor": 2
}
