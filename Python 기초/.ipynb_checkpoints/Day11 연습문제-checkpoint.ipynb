{
 "cells": [
  {
   "cell_type": "code",
   "execution_count": null,
   "metadata": {},
   "outputs": [],
   "source": []
  },
  {
   "cell_type": "code",
   "execution_count": null,
   "metadata": {},
   "outputs": [],
   "source": [
    "# 1~5. 10페이지까지 파이썬 키워드에 대한 질문과 답변을 모두 추출하고\n",
    "#      초보라는 단어가 등장한 횟수 출력\n",
    "\n",
    "import requests as req\n",
    "from bs4 import BeautifulSoup\n",
    "import re\n",
    "\n",
    "page=0 # 몇 페이지인지 나타내는 변수\n",
    "num=0  # 변 먼째 질문인지 나타내는 변수\n",
    "cnt=0  # '초보' 나온 횟수 저장하는 변수\n",
    "res=''\n",
    "\n",
    "# 1~10페이지까지 url 바꾸며 html 문서 읽기\n",
    "for k in range(1,101,10):\n",
    "    url='https://search.naver.com/search.naver?where=kin&kin_display=10&qt=&title=0&&answer=0&grade=0&choice=0&sec=0&nso=so%3Ar%2Ca%3Aall%2Cp%3Aall&query=%ED%8C%8C%EC%9D%B4%EC%8D%AC&c_id=&c_name=&sm=tab_pge&kin_start='+str(k)\n",
    "    response=req.get(url)\n",
    "    soup=BeautifulSoup(response.text,'html.parser')\n",
    "    \n",
    "    page+=1 \n",
    "    \n",
    "    # 각 질의응답 내용이 들어있는 페이지 url 추출\n",
    "    links=[]\n",
    "    for i in soup.select('#elThumbnailResultArea > li > dl > dt > a'):\n",
    "        link=i.attrs['href']\n",
    "        links.append(link)\n",
    "\n",
    "    # 각 질문 제목과 내용 추출\n",
    "    for j in links:\n",
    "        response=req.get(j)\n",
    "        soup=BeautifulSoup(response.text,'html.parser')\n",
    "        \n",
    "        # 질문 제목 추출\n",
    "        temp1=soup.select_one('#content > div.question-content > div > div > div.c-heading__title > div > div.title')\n",
    "        title=temp1.text.strip()\n",
    "        \n",
    "        # 질문 내용 추출\n",
    "        temp2=soup.select_one('#content > div.question-content > div > div > div.c-heading__content')\n",
    "        try: question=temp2.text.strip() # 내용 없는 질문도 있음\n",
    "        except : question='내용 무'\n",
    "        \n",
    "        # 답변 내용 추출\n",
    "        temp3=soup.select('div > div._endContents.c-heading-answer__content')\n",
    "        # 답변이 여러개인 경우 대비\n",
    "        answer=''\n",
    "        for a in temp3: \n",
    "            answer+=a.text.strip()+'\\n'*2\n",
    "        \n",
    "        # 초보 나온 횟수 세기\n",
    "        cnt+=title.count('초보')+question.count('초보')+answer.count('초보')\n",
    "        \n",
    "        num+=1 \n",
    "        if num>10:\n",
    "            num=num%10\n",
    "\n",
    "        print(str(page)+' 페이지 '+str(num)+'번 째 질문입니다.\\n\\n')\n",
    "        print('Q :',title,'\\n')\n",
    "        print(question,'\\n')\n",
    "        print('A :','\\n'*2,answer,'\\n','='*80)\n",
    "        \n",
    "print(\"'초보'는 총\",cnt,\"번 등장합니다\")"
   ]
  },
  {
   "cell_type": "code",
   "execution_count": null,
   "metadata": {},
   "outputs": [],
   "source": []
  }
 ],
 "metadata": {
  "kernelspec": {
   "display_name": "Python 3",
   "language": "python",
   "name": "python3"
  },
  "language_info": {
   "codemirror_mode": {
    "name": "ipython",
    "version": 3
   },
   "file_extension": ".py",
   "mimetype": "text/x-python",
   "name": "python",
   "nbconvert_exporter": "python",
   "pygments_lexer": "ipython3",
   "version": "3.7.4"
  }
 },
 "nbformat": 4,
 "nbformat_minor": 2
}
