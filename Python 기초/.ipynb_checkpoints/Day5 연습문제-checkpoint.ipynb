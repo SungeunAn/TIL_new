{
 "cells": [
  {
   "cell_type": "code",
   "execution_count": 5,
   "metadata": {},
   "outputs": [
    {
     "name": "stdout",
     "output_type": "stream",
     "text": [
      "level\n"
     ]
    },
    {
     "data": {
      "text/plain": [
       "True"
      ]
     },
     "execution_count": 5,
     "metadata": {},
     "output_type": "execute_result"
    }
   ],
   "source": [
    "#1. 회문 판별하기\n",
    "\n",
    "word=list(input())\n",
    "word_half=len(word)//2\n",
    "res=True\n",
    "\n",
    "for i in range(word_half):\n",
    "    if word[i]!=word[len(word)-(i+1)]:\n",
    "        res=False\n",
    "        break\n",
    "res"
   ]
  },
  {
   "cell_type": "code",
   "execution_count": 372,
   "metadata": {},
   "outputs": [
    {
     "name": "stdout",
     "output_type": "stream",
     "text": [
      "hello\n"
     ]
    },
    {
     "data": {
      "text/plain": [
       "[\"['h', 'e', 'l']\", \"['e', 'l', 'l']\", \"['l', 'l', 'o']\"]"
      ]
     },
     "execution_count": 372,
     "metadata": {},
     "output_type": "execute_result"
    }
   ],
   "source": [
    "#2.n-gram 만들기\n",
    "\n",
    "#쪼갠 단어 조각을 결과로 반환하는 함수 정의\n",
    "def word_split(*args):\n",
    "    frag=''\n",
    "    for i in args:\n",
    "        frag+=str(i)\n",
    "    return frag\n",
    "\n",
    "num=3                    #n_gram에서 n 설정\n",
    "word=list(input())\n",
    "res=[]                   #결과값 저장하기 위한 리스트\n",
    "\n",
    "for i in range(len(word)-num+1):\n",
    "    frag=word_split(word[i:i+num])\n",
    "    res.append(frag)\n",
    "res"
   ]
  },
  {
   "cell_type": "code",
   "execution_count": 400,
   "metadata": {},
   "outputs": [
    {
     "name": "stdout",
     "output_type": "stream",
     "text": [
      "1.jpg 10.jpg 2.jpg\n"
     ]
    },
    {
     "data": {
      "text/plain": [
       "['001.jpg', '010.jpg', '002.jpg']"
      ]
     },
     "execution_count": 400,
     "metadata": {},
     "output_type": "execute_result"
    }
   ],
   "source": [
    "#3. 파일명 포매팅\n",
    "\n",
    "files=input().split(' ')\n",
    "file_new=[]               #새로운 파일명 저장하기 위한 리스트\n",
    "\n",
    "for i in files:\n",
    "    new=(lambda x:x if len(x)==7 else '0'+x if len(x)==6 else '00'+x)(i)\n",
    "    file_new.append(new)\n",
    "\n",
    "file_new"
   ]
  },
  {
   "cell_type": "code",
   "execution_count": null,
   "metadata": {},
   "outputs": [],
   "source": [
    "#차유화\n",
    "a = input().split(' ')\n",
    "result=[]\n",
    "\n",
    "# .을 기준으로 분리\n",
    "for i in a:\n",
    "    (x,y) = i.split('.')\n",
    "    result += ['{0:0>3}'.format(x)+y]"
   ]
  },
  {
   "cell_type": "code",
   "execution_count": 8,
   "metadata": {},
   "outputs": [
    {
     "data": {
      "text/plain": [
       "[4]"
      ]
     },
     "execution_count": 8,
     "metadata": {},
     "output_type": "execute_result"
    }
   ],
   "source": [
    "#4. 총 병사수 N과 간격 K가 주어졌을 때 마지막으로 남는 병사의 위치\n",
    "\n",
    "#변수 설정 및 초기화\n",
    "sol=10                     #군인들의 수\n",
    "spc=3                      #간격\n",
    "rest=0                     #나머지 값(sol%spc, 제거할 항의 인덱스 역할) 초기화\n",
    "sols=list(range(1,sol+1))\n",
    "\n",
    "#리스트에서 일정 인덱스 간격으로 항 제거하는 함수\n",
    "def sol_alive(sols,spc,rest_for):\n",
    "    shr,rest=divmod(len(sols)+rest_for,spc)\n",
    "    if shr==0:\n",
    "        del sols[-rest_for-1]\n",
    "    else:\n",
    "        for i in range(shr):\n",
    "            del sols[(shr-i)*spc-rest_for-1]\n",
    "    return sols, rest    #항이 제거된 리스트 및 리스트를 일정 간격으로\n",
    "                          #나누었을 때 남는 항의 개수 반환\n",
    "\n",
    "while True:\n",
    "    if len(sols)==1:\n",
    "        break\n",
    "    sols,rest=sol_alive(sols,spc,rest)  \n",
    "\n",
    "sols\n",
    "\n",
    "#위와 같이 반복적으로 함수를 호출해 계산하는 것보다 함수를 한 번 호출하고\n",
    "#그 안에서 반복문을 돌리는 것이 효율적임"
   ]
  },
  {
   "cell_type": "code",
   "execution_count": null,
   "metadata": {},
   "outputs": [],
   "source": []
  }
 ],
 "metadata": {
  "kernelspec": {
   "display_name": "Python 3",
   "language": "python",
   "name": "python3"
  },
  "language_info": {
   "codemirror_mode": {
    "name": "ipython",
    "version": 3
   },
   "file_extension": ".py",
   "mimetype": "text/x-python",
   "name": "python",
   "nbconvert_exporter": "python",
   "pygments_lexer": "ipython3",
   "version": "3.7.4"
  }
 },
 "nbformat": 4,
 "nbformat_minor": 2
}
