{
 "cells": [
  {
   "cell_type": "code",
   "execution_count": null,
   "metadata": {},
   "outputs": [],
   "source": [
    "#1. 이메일 형식에 부합하도록 패턴식 정의\n",
    "emails = ['python@mail.example.com', 'python+kr@example.com',              # 올바른 형식\n",
    "          'python-dojang@example.co.kr', 'python_10@example.info',         # 올바른 형식\n",
    "          'python.dojang@e-xample.com',                                    # 올바른 형식\n",
    "          '@example.com', 'python@example', 'python@example-com']          # 올바르지 않은 형식\n",
    "\n",
    "import re\n",
    "\n",
    "pat=re.compile('\\w+.\\w+[@]\\w+.\\w+[.]\\w+.\\w*')\n",
    "for i in emails:\n",
    "    if pat.match(i):\n",
    "        print('Ok')\n",
    "    else :\n",
    "        print('Wrong')"
   ]
  },
  {
   "cell_type": "code",
   "execution_count": null,
   "metadata": {},
   "outputs": [],
   "source": [
    "#2-1. 저자명 추출\n",
    "\n",
    "with open('토지.txt', 'r') as f:\n",
    "    data=f.read()\n",
    "    pat=re.search('<author>(?P<Author>\\w+)</author>',data)\n",
    "    print(pat.group('Author'))"
   ]
  },
  {
   "cell_type": "code",
   "execution_count": null,
   "metadata": {},
   "outputs": [],
   "source": [
    "#2-2. 편 제목 추출\n",
    "\n",
    "with open('토지.txt', 'r') as f:\n",
    "    data=f.read()\n",
    "    pat=re.findall('(제\\d+편 \\w+.\\w+)',data)\n",
    "    print(pat)"
   ]
  },
  {
   "cell_type": "code",
   "execution_count": null,
   "metadata": {},
   "outputs": [],
   "source": [
    "#2-2. 편/장 제목 추출\n",
    "\n",
    "with open('토지.txt', 'r') as f:\n",
    "    while True:\n",
    "        data=f.readline()\n",
    "        pat1=re.search('(제\\d+편 \\w+.\\w+)',data)\n",
    "        pat2=re.search('<head>(?P<Chapter>\\d+장\\D+)</head>',data)\n",
    "        if pat1:\n",
    "            print(pat1.group())\n",
    "        if pat2:\n",
    "            print('\\t'+pat2.group('Chapter'))\n",
    "        if not data: break"
   ]
  },
  {
   "cell_type": "code",
   "execution_count": null,
   "metadata": {},
   "outputs": [],
   "source": [
    "#2-3. 각 편에 대한 장 구성정보 추출\n",
    "\n",
    "with open('토지.txt', 'r') as f:\n",
    "    data=f.read()\n",
    "    pat=re.findall('<head>(?P<Chapter>\\d+장\\D+)</head>',data)\n",
    "    \n",
    "    j=[]                        #편이 나눠지는 시점 저장 리스트\n",
    "    s=[]                        #편 수 (1편인지 2편인지...)저장 리스트\n",
    "    series=0                    #몇 편에 속한 장인지 세기 위한 변수\n",
    "    for i in range(len(pat)):\n",
    "        if pat[i][:3]=='1장 ':  #1장으로 시작하는 시점마다\n",
    "            series+=1           #편+1해 저장\n",
    "            s.append(series)    \n",
    "            j.append(i)          #새로운 편 시작되는 시점의 인덱스 저장\n",
    "    j.append(len(pat))\n",
    "    for k in s:                 #결과 각 편별로 나누어 출력\n",
    "        print('<제%s편>' %s[k-1])\n",
    "        print(pat[j[k-1]:j[k]])"
   ]
  },
  {
   "cell_type": "code",
   "execution_count": null,
   "metadata": {},
   "outputs": [],
   "source": [
    "#2-4. 인용부호로 묶여있는 대사만 추출\n",
    "\n",
    "with open('토지.txt', 'r+') as f:\n",
    "    data=f.read()\n",
    "    pat=re.findall('(?P<Dial>\"[가-힣!?.,\\s-]+\")',data)\n",
    "    f2=open('대화추출.txt','w')\n",
    "    for i in range(len(pat)):\n",
    "        f2.write(pat[i]+'\\n')\n",
    "    f2.close"
   ]
  },
  {
   "cell_type": "code",
   "execution_count": 16,
   "metadata": {},
   "outputs": [
    {
     "name": "stdout",
     "output_type": "stream",
     "text": [
      "3675\n"
     ]
    }
   ],
   "source": [
    "#2-4. 왜안되지??\n",
    "\n",
    "with open('토지.txt', 'r+') as f:\n",
    "    f2=open('대화추출.txt','w') \n",
    "    cnt=0\n",
    "    while True:    \n",
    "        data=f.readline()\n",
    "        pat=re.search('([\"][\\D]+[\"])',data)\n",
    "        if not data: break\n",
    "        if pat!=None:\n",
    "            f2.write(pat.group()+'\\n')\n",
    "            cnt+=1\n",
    "    f2.close\n",
    "    \n",
    "print(cnt)"
   ]
  },
  {
   "cell_type": "code",
   "execution_count": null,
   "metadata": {},
   "outputs": [],
   "source": [
    "#2-5. 양반/선비 -> 사람으로 치환\n",
    "\n",
    "\n",
    "with open('토지.txt', 'r+') as f:\n",
    "    data=f.read()\n",
    "    pat=re.compile('양반|선비')\n",
    "    res=pat.sub('사람',data)\n",
    "    f.seek(0)\n",
    "    f.write(res)"
   ]
  },
  {
   "cell_type": "code",
   "execution_count": null,
   "metadata": {},
   "outputs": [],
   "source": []
  }
 ],
 "metadata": {
  "kernelspec": {
   "display_name": "Python 3",
   "language": "python",
   "name": "python3"
  },
  "language_info": {
   "codemirror_mode": {
    "name": "ipython",
    "version": 3
   },
   "file_extension": ".py",
   "mimetype": "text/x-python",
   "name": "python",
   "nbconvert_exporter": "python",
   "pygments_lexer": "ipython3",
   "version": "3.7.4"
  }
 },
 "nbformat": 4,
 "nbformat_minor": 2
}
