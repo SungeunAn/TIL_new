{
 "cells": [
  {
   "cell_type": "code",
   "execution_count": 2,
   "metadata": {},
   "outputs": [
    {
     "name": "stdout",
     "output_type": "stream",
     "text": [
      "Ok\n",
      "Ok\n",
      "Ok\n",
      "Ok\n",
      "Ok\n",
      "Wrong\n",
      "Wrong\n",
      "Wrong\n"
     ]
    }
   ],
   "source": [
    "#1. 이메일 형식에 부합하도록 패턴식 정의\n",
    "emails = ['python@mail.example.com', 'python+kr@example.com',              # 올바른 형식\n",
    "          'python-dojang@example.co.kr', 'python_10@example.info',         # 올바른 형식\n",
    "          'python.dojang@e-xample.com',                                    # 올바른 형식\n",
    "          '@example.com', 'python@example', 'python@example-com']          # 올바르지 않은 형식\n",
    "\n",
    "import re\n",
    "\n",
    "pat=re.compile('\\w+.\\w+[@]\\w+.\\w+[.]\\w+.\\w*')\n",
    "for i in emails:\n",
    "    if pat.match(i):\n",
    "        print('Ok')\n",
    "    else :\n",
    "        print('Wrong')"
   ]
  },
  {
   "cell_type": "code",
   "execution_count": 205,
   "metadata": {},
   "outputs": [
    {
     "name": "stdout",
     "output_type": "stream",
     "text": [
      "박경리\n"
     ]
    }
   ],
   "source": [
    "#2-1. 저자명 추출\n",
    "\n",
    "with open('토지.txt', 'r') as f:\n",
    "    data=f.read()\n",
    "    pat=re.search('<author>(?P<Author>\\w+)</author>',data)\n",
    "    print(pat.group('Author'))"
   ]
  },
  {
   "cell_type": "code",
   "execution_count": 212,
   "metadata": {},
   "outputs": [
    {
     "name": "stdout",
     "output_type": "stream",
     "text": [
      "['제1편 어둠의 발소리', '제2편 추적과 음모']\n"
     ]
    }
   ],
   "source": [
    "#2-2. 편 제목 추출\n",
    "\n",
    "with open('토지.txt', 'r') as f:\n",
    "    data=f.read()\n",
    "    pat=re.findall('(제\\d+편 \\w+.\\w+)',data)\n",
    "    print(pat)"
   ]
  },
  {
   "cell_type": "code",
   "execution_count": 49,
   "metadata": {},
   "outputs": [
    {
     "name": "stdout",
     "output_type": "stream",
     "text": [
      "제1편 어둠의 발소리\n",
      "\t1장 서희(西姬)\n",
      "\t2장 추적\n",
      "\t3장 골짜기의 초롱불\n",
      "\t4장 수수께끼\n",
      "\t5장 장날\n",
      "\t6장 마을 아낙들\n",
      "\t7장 상민 윤보와 중인 문의원\n",
      "\t8장 오광대(五廣大)\n",
      "\t9장 소식\n",
      "\t10장 주막에서 만난 강포수(姜砲手)\n",
      "\t11장 개명 사람\n",
      "\t12장 꿈속의 수미산\n",
      "\t13장 무녀(巫女)\n",
      "\t14장 악당과 마녀\n",
      "\t15장 첫 논쟁\n",
      "\t16장 구전(口傳)\n",
      "\t17장 습격\n",
      "\t18장 유혹\n",
      "\t19장 사자(使者)\n",
      "제2편 추적과 음모\n",
      "\t1장 사라진 여자\n",
      "\t2장 윤씨의 비밀\n",
      "\t3장 실패\n",
      "\t4장 하늘과 숲이\n",
      "\t5장 풋사랑\n",
      "\t6장 음양의 이치\n",
      "\t7장 암시\n",
      "\t8장 행패\n",
      "\t9장 과거의 거울에 비친 풍경\n",
      "\t10장 멀고 먼 황천길\n",
      "\t11장 황금의 무지개\n",
      "\t12장 자수당(子授堂)의 정사(情事)\n",
      "\t13장 꿈\n"
     ]
    }
   ],
   "source": [
    "#2-2. 편/장 제목 추출\n",
    "\n",
    "with open('토지.txt', 'r') as f:\n",
    "    while True:\n",
    "        data=f.readline()\n",
    "        pat1=re.search('(제\\d+편 \\w+.\\w+)',data)\n",
    "        pat2=re.search('<head>(?P<Chapter>\\d+장\\D+)</head>',data)\n",
    "        if pat1:\n",
    "            print(pat1.group())\n",
    "        if pat2:\n",
    "            print('\\t'+pat2.group('Chapter'))\n",
    "        if not data: break"
   ]
  },
  {
   "cell_type": "code",
   "execution_count": 259,
   "metadata": {},
   "outputs": [
    {
     "name": "stdout",
     "output_type": "stream",
     "text": [
      "<제1편>\n",
      "['1장 서희(西姬)', '2장 추적', '3장 골짜기의 초롱불', '4장 수수께끼', '5장 장날', '6장 마을 아낙들', '7장 상민 윤보와 중인 문의원', '8장 오광대(五廣大)', '9장 소식', '10장 주막에서 만난 강포수(姜砲手)', '11장 개명 양반', '12장 꿈속의 수미산', '13장 무녀(巫女)', '14장 악당과 마녀', '15장 첫 논쟁', '16장 구전(口傳)', '17장 습격', '18장 유혹', '19장 사자(使者)']\n",
      "<제2편>\n",
      "['1장 사라진 여자', '2장 윤씨의 비밀', '3장 실패', '4장 하늘과 숲이', '5장 풋사랑', '6장 음양의 이치', '7장 암시', '8장 행패', '9장 과거의 거울에 비친 풍경', '10장 멀고 먼 황천길', '11장 황금의 무지개', '12장 자수당(子授堂)의 정사(情事)', '13장 꿈']\n"
     ]
    }
   ],
   "source": [
    "#2-3. 각 편에 대한 장 구성정보 추출\n",
    "\n",
    "with open('토지.txt', 'r') as f:\n",
    "    data=f.read()\n",
    "    pat=re.findall('<head>(?P<Chapter>\\d+장\\D+)</head>',data)\n",
    "    \n",
    "    j=[]                        #편이 나눠지는 시점 저장 리스트\n",
    "    s=[]                        #편 수 (1편인지 2편인지...)저장 리스트\n",
    "    series=0                    #몇 편에 속한 장인지 세기 위한 변수\n",
    "    for i in range(len(pat)):\n",
    "        if pat[i][:3]=='1장 ':  #1장으로 시작하는 시점마다\n",
    "            series+=1           #편+1해 저장\n",
    "            s.append(series)    \n",
    "            j.append(i)          #새로운 편 시작되는 시점의 인덱스 저장\n",
    "    j.append(len(pat))\n",
    "    for k in s:                 #결과 각 편별로 나누어 출력\n",
    "        print('<제%s편>' %s[k-1])\n",
    "        print(pat[j[k-1]:j[k]])"
   ]
  },
  {
   "cell_type": "code",
   "execution_count": 48,
   "metadata": {},
   "outputs": [],
   "source": [
    "#2-4. 인용부호로 묶여있는 대사만 추출\n",
    "\n",
    "with open('토지.txt', 'r+') as f:\n",
    "    data=f.read()\n",
    "    pat=re.findall('(?P<Dial>\"[가-힣!?.,\\s-]+\")',data)\n",
    "    f2=open('대화추출.txt','w')\n",
    "    for i in range(len(pat)):\n",
    "        f2.write(pat[i]+'\\n')\n",
    "    f2.close"
   ]
  },
  {
   "cell_type": "code",
   "execution_count": null,
   "metadata": {},
   "outputs": [],
   "source": [
    "#2-5. 양반/선비 -> 사람으로 치환\n",
    "\n",
    "\n",
    "with open('토지.txt', 'r+') as f:\n",
    "    data=f.read()\n",
    "    pat=re.compile('양반|선비')\n",
    "    res=pat.sub('사람',data)\n",
    "    f.seek(0)\n",
    "    f.write(res)"
   ]
  },
  {
   "cell_type": "code",
   "execution_count": null,
   "metadata": {},
   "outputs": [],
   "source": []
  }
 ],
 "metadata": {
  "kernelspec": {
   "display_name": "Python 3",
   "language": "python",
   "name": "python3"
  },
  "language_info": {
   "codemirror_mode": {
    "name": "ipython",
    "version": 3
   },
   "file_extension": ".py",
   "mimetype": "text/x-python",
   "name": "python",
   "nbconvert_exporter": "python",
   "pygments_lexer": "ipython3",
   "version": "3.7.4"
  }
 },
 "nbformat": 4,
 "nbformat_minor": 2
}
