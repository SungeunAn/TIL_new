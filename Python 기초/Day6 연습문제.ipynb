{
 "cells": [
  {
   "cell_type": "code",
   "execution_count": 231,
   "metadata": {},
   "outputs": [],
   "source": [
    "#코딩에 앞서 수정 대상 txt 파일 생성\n",
    "with open('test.txt','w') as f:\n",
    "    f.write('Life is too short\\nyou need java')"
   ]
  },
  {
   "cell_type": "code",
   "execution_count": 232,
   "metadata": {},
   "outputs": [],
   "source": [
    "#1. test.txt 내용 중 \"java\"라는 문자열을 \"python\"으로 바꾸어서 저장\n",
    "#replace 함수 활용할 것\n",
    "\n",
    "res=[]        #구문 수정한 뒤 저장하기 위한 리스트\n",
    "\n",
    "with open('test.txt','r') as f:\n",
    "    ctnt=f.readlines()\n",
    "    for i in range(len(ctnt)):\n",
    "        res.append(ctnt[i].replace('java','python'))\n",
    "    \n",
    "with open('test.txt','w') as f:    #파일 일부 수정이 불가하므로 수정된 데이터 \n",
    "    for j in range(len(res)):      #전체 재입력\n",
    "        f.write(res[j])"
   ]
  },
  {
   "cell_type": "code",
   "execution_count": null,
   "metadata": {},
   "outputs": [],
   "source": [
    "#조준형\n",
    "# 텍스트 파일 생성\n",
    "with open(\"test.txt\",\"w\") as f: \n",
    "    f.write(\"Life is too short\\nyou need java\")\n",
    "# 수정 및 쓰기\n",
    "f = open(\"test.txt\",\"r+\") \n",
    "a = f.read().replace(\"java\",\"python\")\n",
    "f.seek(0) # 포인터를 처음으로 이동\n",
    "f.write(a) \n",
    "f.close()"
   ]
  },
  {
   "cell_type": "code",
   "execution_count": 168,
   "metadata": {},
   "outputs": [
    {
     "name": "stdout",
     "output_type": "stream",
     "text": [
      "aaaaa\n"
     ]
    }
   ],
   "source": [
    "#2. 사용자의 입력을 파일(test.txt)에 저장하는 프로그램 작성\n",
    "#프로그램을 다시 실행하더라도 기존에 작성한 내용을 유지 + 추가해야 함\n",
    "\n",
    "with open('test.txt','a') as f:\n",
    "    f.write(input())"
   ]
  },
  {
   "cell_type": "code",
   "execution_count": 169,
   "metadata": {},
   "outputs": [],
   "source": [
    "#3. Calculator 클래스 상속하는 UpgradeCalculator 생성 및 minus 메서드를 추가\n",
    "\n",
    "class Calculator:\n",
    "    def __init__(self):\n",
    "        self.value = 0\n",
    "    def add(self, val):\n",
    "        self.value += val\n",
    "\n",
    "class UpgradeCalculator(Calculator):\n",
    "    def minus(self,val):\n",
    "        self.value -= val        "
   ]
  },
  {
   "cell_type": "code",
   "execution_count": 172,
   "metadata": {},
   "outputs": [
    {
     "name": "stdout",
     "output_type": "stream",
     "text": [
      "3\n"
     ]
    }
   ],
   "source": [
    "a=UpgradeCalculator()\n",
    "\n",
    "a.add(10)\n",
    "a.minus(7)\n",
    "print(a.value)"
   ]
  },
  {
   "cell_type": "code",
   "execution_count": 174,
   "metadata": {},
   "outputs": [],
   "source": [
    "#4. 객체변수 value가 100 미만이도록 제한하는 MaxLimitCalculator 클래스 생성\n",
    "\n",
    "class MaxLimitCalculator(Calculator):\n",
    "    def add(self,val):\n",
    "        self.value+=val\n",
    "        if self.value>=100:\n",
    "            self.value=100"
   ]
  },
  {
   "cell_type": "code",
   "execution_count": 176,
   "metadata": {},
   "outputs": [
    {
     "name": "stdout",
     "output_type": "stream",
     "text": [
      "100\n"
     ]
    }
   ],
   "source": [
    "b=MaxLimitCalculator()\n",
    "\n",
    "b.add(50)\n",
    "b.add(60)\n",
    "print(b.value)"
   ]
  },
  {
   "cell_type": "code",
   "execution_count": 181,
   "metadata": {},
   "outputs": [
    {
     "data": {
      "text/plain": [
       "[3, 6, 9, 12]"
      ]
     },
     "execution_count": 181,
     "metadata": {},
     "output_type": "execute_result"
    }
   ],
   "source": [
    "#5. map과 lambda를 사용해 [1, 2, 3, 4] 리스트의 각 요솟값에 3이 곱해진 리스트\n",
    "#[3, 6, 9, 12] 출력\n",
    "\n",
    "inp=[1,2,3,4]\n",
    "out=list(map((lambda x:3*x),inp))\n",
    "out"
   ]
  },
  {
   "cell_type": "code",
   "execution_count": 1,
   "metadata": {},
   "outputs": [
    {
     "name": "stdout",
     "output_type": "stream",
     "text": [
      "지뢰 갯수 :3\n",
      "행 수 :6\n",
      "열 수 :9\n",
      "[0, 0, 0, 0, 0, 0, 0, 0, 0]\n",
      "[0, 0, 0, 0, 0, 0, 0, 1, 1]\n",
      "[0, 0, 0, 0, 0, 1, 1, 2, '*']\n",
      "[0, 0, 0, 0, 0, 1, '*', 2, 1]\n",
      "[0, 0, 0, 0, 0, 2, 2, 2, 0]\n",
      "[0, 0, 0, 0, 0, 1, '*', 1, 0]\n"
     ]
    }
   ],
   "source": [
    "#6. 지뢰찾기\n",
    "import random\n",
    "\n",
    "#지뢰 갯수 및 행, 열 수 결정\n",
    "mine_num=int(input('지뢰 갯수 :'))\n",
    "n=int(input('행 수 :'))\n",
    "m=int(input('열 수 :'))\n",
    "\n",
    "#무작위 추출되는 지뢰 위치 저장 리스트\n",
    "mine=['-']*m*n\n",
    "\n",
    "#지뢰 위치 무작위 추출 및 저장\n",
    "for i in range(mine_num):\n",
    "    mine[random.randint(0,m*n-1)]='*'\n",
    "    \n",
    "#근처 지뢰 갯수 저장하기 위한 리스트 생성\n",
    "#이 때, 총 인덱스=(행+2)*(열+2)의 크기가 되도록 생성\n",
    "#지뢰가 가장자리에 존재하는 경우에 대비해 상하좌우 1열씩을 추가로 생성한 뒤\n",
    "#출력 시 제거해주기 위함\n",
    "cnt=[0]*(m+2)*(n+2)\n",
    "\n",
    "#각 칸에서 접한 지뢰 갯수 세기\n",
    "for j in range(m*n):\n",
    "    if mine[j]=='*':\n",
    "        row,col=divmod(j,m)\n",
    "        idx=(row+1)*(m+2)+col+1 #cnt 행렬에서 지뢰의 인덱스\n",
    "        idx_plus=[idx-(m+3),idx-(m+2),idx-(m+1),idx-1,idx+1,idx+(m+1),idx+(m+2),idx+(m+3)] #지뢰와 접하는 위치의 인덱스\n",
    "        cnt[idx]='*'\n",
    "        for k in idx_plus:\n",
    "            if cnt[k]!='*':\n",
    "                cnt[k]+=1\n",
    "\n",
    "#결과 출력\n",
    "for l in range(1,n+1):\n",
    "    print(cnt[l*(m+2)+1:l*(m+2)+(m+1)])\n",
    "    "
   ]
  },
  {
   "cell_type": "code",
   "execution_count": 5,
   "metadata": {},
   "outputs": [
    {
     "name": "stdout",
     "output_type": "stream",
     "text": [
      "n&m:10 6\n",
      "......\n",
      "..*...\n",
      "......\n",
      "...***\n",
      ".*.*..\n",
      ".....*\n",
      "......\n",
      "......\n",
      "...*..\n",
      ".....*\n",
      "\n",
      "[['0', '1', '1', '1', '0', '0'], ['0', '1', '*', '1', '0', '0'], ['0', '1', '2', '3', '3', '2'], ['1', '1', '3', '*', '*', '*'], ['1', '*', '3', '*', '5', '3'], ['1', '1', '2', '1', '2', '*'], ['0', '0', '0', '0', '1', '1'], ['0', '0', '1', '1', '1', '0'], ['0', '0', '1', '*', '2', '1'], ['0', '0', '1', '1', '2', '*']]\n",
      "011100\n",
      "01*100\n",
      "012332\n",
      "113***\n",
      "1*3*53\n",
      "11212*\n",
      "000011\n",
      "001110\n",
      "001*21\n",
      "00112*\n"
     ]
    }
   ],
   "source": [
    "#조준형\n",
    "import random\n",
    "n,m = map(int,input(\"n&m:\").split())\n",
    "a = []\n",
    "count = 0\n",
    "\n",
    "def count_mine(i,j): # 주변의 지뢰 count\n",
    "    count = 0\n",
    "    x = list(range(i-1,i+2)) # i행일때 i-1,i, i+1 리스트 생성\n",
    "    for i in x:              # 행 인덱스가 범위 초과하는경우 제외\n",
    "        if i < 0:\n",
    "            x.remove(i)\n",
    "        if i > n-1:\n",
    "            x.remove(i)\n",
    "    y = list(range(j-1,j+2)) # j열일때 j-1, j, j+1 리스트 생성\n",
    "    for j in y:              # 열 인덱스가 범위 초과하는경우 제외\n",
    "        if j < 0:\n",
    "            y.remove(j)\n",
    "        if j > m-1:\n",
    "            y.remove(j)\n",
    "    \n",
    "    for k in x:            # 주변 지뢰 count\n",
    "        for l in y:\n",
    "            if a[k][l] == '*':\n",
    "                count += 1\n",
    "    return count\n",
    "\n",
    "for i in range(n):        # nxm 행렬 생성\n",
    "    a.append(list('.'*m))\n",
    "\n",
    "while count <= 8:       # 행과 열에 랜덤하게 지뢰 생성\n",
    "    x, y = random.randint(0,n-1),random.randint(0,m-1)   \n",
    "    a[x][y] = '*'\n",
    "    count += 1\n",
    "\n",
    "for i in range(n):\n",
    "    print(\"\".join(a[i]))\n",
    "print()\n",
    "\n",
    "for i in range(n):\n",
    "    for j in range(m):\n",
    "        if a[i][j] == '*':\n",
    "            continue\n",
    "        a[i][j] = str(count_mine(i,j))\n",
    "\n",
    "for i in range(n):\n",
    "    print(\"\".join(a[i]))\n"
   ]
  },
  {
   "cell_type": "code",
   "execution_count": null,
   "metadata": {},
   "outputs": [],
   "source": []
  }
 ],
 "metadata": {
  "kernelspec": {
   "display_name": "Python 3",
   "language": "python",
   "name": "python3"
  },
  "language_info": {
   "codemirror_mode": {
    "name": "ipython",
    "version": 3
   },
   "file_extension": ".py",
   "mimetype": "text/x-python",
   "name": "python",
   "nbconvert_exporter": "python",
   "pygments_lexer": "ipython3",
   "version": "3.7.4"
  }
 },
 "nbformat": 4,
 "nbformat_minor": 2
}
