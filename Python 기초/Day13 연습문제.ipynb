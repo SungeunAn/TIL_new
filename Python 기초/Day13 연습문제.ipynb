{
 "cells": [
  {
   "cell_type": "code",
   "execution_count": null,
   "metadata": {},
   "outputs": [],
   "source": []
  },
  {
   "cell_type": "code",
   "execution_count": 96,
   "metadata": {},
   "outputs": [
    {
     "name": "stdout",
     "output_type": "stream",
     "text": [
      "[-7, -9, 8]\n"
     ]
    }
   ],
   "source": [
    "# 0-1. 연속으로 숫자 3개를 곱했을 때 얻어진 결과값이 가장 큰 구간 출력\n",
    "a=[3,2,1,-4,-7,-9,8,-5,3,-1]\n",
    "\n",
    "res=[]\n",
    "for i in range(len(a)-2):\n",
    "    res.append(a[i]*a[i+1]*a[i+2])\n",
    "j=res.index(max(res))\n",
    "print(a[j:j+3])"
   ]
  },
  {
   "cell_type": "code",
   "execution_count": 95,
   "metadata": {},
   "outputs": [
    {
     "name": "stdout",
     "output_type": "stream",
     "text": [
      "[[-1 -3]\n",
      " [ 0 -7]]\n"
     ]
    }
   ],
   "source": [
    "# 0-2. 숫자를 2*2 영역으로 곱했을 때 얻어진 결과값이 가장 큰 구간 출력\n",
    "b=[[3, 1,-2],\n",
    "   [2,-1,-3],\n",
    "   [-2,0,-7]]\n",
    "\n",
    "res=np.array(b)[:2,:2]\n",
    "mul=b[0][0]*b[0][1]*b[1][0]*b[1][1]\n",
    "\n",
    "for i in range(len(b)-1):\n",
    "    for j in range(len(b[0])-1):\n",
    "        res_temp=b[i][j]*b[i][j+1]*b[i+1][j]*b[i+1][j+1]\n",
    "        if res_temp>mul:\n",
    "            res=np.array(b)[i:i+2,j:j+2]\n",
    "print(res)"
   ]
  },
  {
   "cell_type": "code",
   "execution_count": 97,
   "metadata": {},
   "outputs": [],
   "source": [
    "import numpy as np\n",
    "\n",
    "m = np.array([[ 0,  1,  2,  3,  4],\n",
    "              [ 5,  6,  7,  8,  9],\n",
    "              [10, 11, 12, 13, 14]])"
   ]
  },
  {
   "cell_type": "code",
   "execution_count": 98,
   "metadata": {},
   "outputs": [
    {
     "data": {
      "text/plain": [
       "7"
      ]
     },
     "execution_count": 98,
     "metadata": {},
     "output_type": "execute_result"
    }
   ],
   "source": [
    "# 1-1. 이 행렬에서 값 7 을 인덱싱한다.\n",
    "\n",
    "m[1,2]"
   ]
  },
  {
   "cell_type": "code",
   "execution_count": 13,
   "metadata": {},
   "outputs": [
    {
     "data": {
      "text/plain": [
       "14"
      ]
     },
     "execution_count": 13,
     "metadata": {},
     "output_type": "execute_result"
    }
   ],
   "source": [
    "# 1-2. 이 행렬에서 값 14 을 인덱싱한다.\n",
    "\n",
    "m[2,4]"
   ]
  },
  {
   "cell_type": "code",
   "execution_count": 15,
   "metadata": {},
   "outputs": [
    {
     "data": {
      "text/plain": [
       "array([6, 7])"
      ]
     },
     "execution_count": 15,
     "metadata": {},
     "output_type": "execute_result"
    }
   ],
   "source": [
    "# 1-3. 이 행렬에서 배열 [6, 7] 을 슬라이싱한다.\n",
    "\n",
    "m[1,[1,2]]"
   ]
  },
  {
   "cell_type": "code",
   "execution_count": 16,
   "metadata": {},
   "outputs": [
    {
     "data": {
      "text/plain": [
       "array([ 7, 12])"
      ]
     },
     "execution_count": 16,
     "metadata": {},
     "output_type": "execute_result"
    }
   ],
   "source": [
    "# 1-4. 이 행렬에서 배열 [7, 12] 을 슬라이싱한다.\n",
    "\n",
    "m[1:,2]"
   ]
  },
  {
   "cell_type": "code",
   "execution_count": 18,
   "metadata": {},
   "outputs": [
    {
     "data": {
      "text/plain": [
       "array([[3, 4],\n",
       "       [8, 9]])"
      ]
     },
     "execution_count": 18,
     "metadata": {},
     "output_type": "execute_result"
    }
   ],
   "source": [
    "# 1-5. 이 행렬에서 배열 [[3, 4], [8, 9]] 을 슬라이싱한다.\n",
    "\n",
    "m[:2,3:]"
   ]
  },
  {
   "cell_type": "code",
   "execution_count": 88,
   "metadata": {},
   "outputs": [],
   "source": [
    "x = np.array([1, 2, 3, 4, 5, 6, 7, 8, 9, 10,\n",
    "              11, 12, 13, 14, 15, 16, 17, 18, 19, 20])"
   ]
  },
  {
   "cell_type": "code",
   "execution_count": 84,
   "metadata": {},
   "outputs": [
    {
     "data": {
      "text/plain": [
       "array([ 3,  6,  9, 12, 15, 18])"
      ]
     },
     "execution_count": 84,
     "metadata": {},
     "output_type": "execute_result"
    }
   ],
   "source": [
    "# 2-1. 이 배열에서 3의 배수를 찾아라.\n",
    "\n",
    "x[x%3==0]"
   ]
  },
  {
   "cell_type": "code",
   "execution_count": 85,
   "metadata": {},
   "outputs": [
    {
     "data": {
      "text/plain": [
       "array([ 1,  5,  9, 13, 17])"
      ]
     },
     "execution_count": 85,
     "metadata": {},
     "output_type": "execute_result"
    }
   ],
   "source": [
    "# 2-2. 이 배열에서 4로 나누면 1이 남는 수를 찾아라.\n",
    "\n",
    "x[x%4==1]"
   ]
  },
  {
   "cell_type": "code",
   "execution_count": 91,
   "metadata": {},
   "outputs": [
    {
     "data": {
      "text/plain": [
       "array([9])"
      ]
     },
     "execution_count": 91,
     "metadata": {},
     "output_type": "execute_result"
    }
   ],
   "source": [
    "# 2-3. 이 배열에서 3으로 나누면 나누어지고 4로 나누면 1이 남는 수를 찾아라.\n",
    "\n",
    "a=x[x%3==0]\n",
    "b=a[a%4==1]\n",
    "b"
   ]
  },
  {
   "cell_type": "code",
   "execution_count": 134,
   "metadata": {},
   "outputs": [
    {
     "name": "stdout",
     "output_type": "stream",
     "text": [
      "최대 낙차 : 7.0\n"
     ]
    }
   ],
   "source": [
    "# 3. ppt 문제 (Gravity)\n",
    "\n",
    "ht=np.array([7,4,2,0,0,6,0,7,0]) # 주어진 박스들의 높이\n",
    "\n",
    "fall=np.zeros([9,8]) # 각 box의 낙차 저장하기 위한 영행렬 생성\n",
    "\n",
    "for i in range(1,len(ht)+1):\n",
    "    for j in range(1,ht[i-1]+1):\n",
    "    # i는 각 box의 가로측, j는 세로축 인덱스\n",
    "    # 각 box의 우측에 j 이상인 수 갯수만큼 기본 낙차(9-i)에서 빼준 후 fall에 저장\n",
    "        x=ht[i:]\n",
    "        fall[i-1,j-1]=((len(ht)-i)-len(x[x>=j])) \n",
    "\n",
    "print('최대 낙차 :',np.max(fall))"
   ]
  },
  {
   "cell_type": "code",
   "execution_count": null,
   "metadata": {},
   "outputs": [],
   "source": []
  },
  {
   "cell_type": "code",
   "execution_count": 119,
   "metadata": {},
   "outputs": [
    {
     "name": "stdout",
     "output_type": "stream",
     "text": [
      "위치별 낙차 :\n",
      " [[0. 0. 0. 0. 0. 0. 0. 0. 0.]\n",
      " [7. 0. 0. 0. 0. 0. 0. 1. 0.]\n",
      " [6. 0. 0. 0. 0. 2. 0. 1. 0.]\n",
      " [6. 0. 0. 0. 0. 2. 0. 1. 0.]\n",
      " [5. 5. 0. 0. 0. 2. 0. 1. 0.]\n",
      " [5. 5. 0. 0. 0. 2. 0. 1. 0.]\n",
      " [4. 4. 4. 0. 0. 2. 0. 1. 0.]\n",
      " [4. 4. 4. 0. 0. 2. 0. 1. 0.]] \n",
      "\n",
      "최대 낙차 : (array([0], dtype=int64), array([6], dtype=int64))\n"
     ]
    }
   ],
   "source": [
    "# 3. ppt 문제 (Gravity)\n",
    "\n",
    "ht=np.array([7,4,2,0,0,6,0,7,0]) # 주어진 박스들의 높이\n",
    "\n",
    "fall=np.zeros([9,8]) # 각 box의 낙차 저장하기 위한 영행렬 생성\n",
    "\n",
    "for i in range(1,len(ht)+1):\n",
    "    for j in range(1,ht[i-1]+1):\n",
    "    # i는 각 box의 가로측, j는 세로축 인덱스\n",
    "    # 각 box의 우측에 j 이상인 수 갯수만큼 기본 낙차(8-i)에서 빼준 후 fall에 저장\n",
    "        x=ht[i:]\n",
    "        fall[i-1,j-1]=((len(ht)-i)-len(x[x>=j])) \n",
    "\n",
    "# 위의 i,j는 전체 그림을 90도 돌린 경우의 행,열 인덱스와 동일\n",
    "# 따라서, 결과 행렬을 다시 90도 회전시키면 원래 그림과 일치하는 결과 반환\n",
    "print('위치별 낙차 :\\n', np.rot90(fall),'\\n')\n",
    "print('최대 낙차 :',np.where(np.max(fall)==fall))"
   ]
  },
  {
   "cell_type": "code",
   "execution_count": 122,
   "metadata": {},
   "outputs": [
    {
     "data": {
      "text/plain": [
       "6"
      ]
     },
     "execution_count": 122,
     "metadata": {},
     "output_type": "execute_result"
    }
   ],
   "source": [
    "np.where(np.max(fall)==fall)[1][0]"
   ]
  },
  {
   "cell_type": "code",
   "execution_count": null,
   "metadata": {},
   "outputs": [],
   "source": []
  }
 ],
 "metadata": {
  "kernelspec": {
   "display_name": "Python 3",
   "language": "python",
   "name": "python3"
  },
  "language_info": {
   "codemirror_mode": {
    "name": "ipython",
    "version": 3
   },
   "file_extension": ".py",
   "mimetype": "text/x-python",
   "name": "python",
   "nbconvert_exporter": "python",
   "pygments_lexer": "ipython3",
   "version": "3.7.4"
  }
 },
 "nbformat": 4,
 "nbformat_minor": 2
}
