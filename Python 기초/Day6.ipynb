{
 "cells": [
  {
   "cell_type": "code",
   "execution_count": 9,
   "metadata": {},
   "outputs": [
    {
     "name": "stdout",
     "output_type": "stream",
     "text": [
      "3\n",
      "7\n"
     ]
    }
   ],
   "source": [
    "res=0\n",
    "def add(num):\n",
    "    global res\n",
    "    res+=num\n",
    "    return res\n",
    "    \n",
    "print(add(3))\n",
    "print(add(4))"
   ]
  },
  {
   "cell_type": "code",
   "execution_count": 10,
   "metadata": {},
   "outputs": [
    {
     "name": "stdout",
     "output_type": "stream",
     "text": [
      "3\n",
      "7\n",
      "3\n",
      "7\n"
     ]
    }
   ],
   "source": [
    "res1=0\n",
    "res2=0\n",
    "def add1(num):\n",
    "    global res1\n",
    "    res1+=num\n",
    "    return res1\n",
    "\n",
    "def add2(num):\n",
    "    global res2\n",
    "    res2+=num\n",
    "    return res2\n",
    "    \n",
    "print(add1(3))\n",
    "print(add1(4))\n",
    "print(add2(3))\n",
    "print(add2(4))"
   ]
  },
  {
   "cell_type": "code",
   "execution_count": 28,
   "metadata": {},
   "outputs": [],
   "source": [
    "class calc:\n",
    "    def __init__(self):\n",
    "        self.res=0\n",
    "    def add(self,num):\n",
    "        self.res+=num\n",
    "        return self.res\n",
    "    def sub(self,num):\n",
    "        self.res-=num\n",
    "        return self.res"
   ]
  },
  {
   "cell_type": "code",
   "execution_count": 29,
   "metadata": {},
   "outputs": [
    {
     "name": "stdout",
     "output_type": "stream",
     "text": [
      "3\n",
      "-4\n",
      "3\n"
     ]
    }
   ],
   "source": [
    "cal1=calc()\n",
    "cal2=calc()\n",
    "\n",
    "print(cal1.add(3))\n",
    "print(cal1.sub(7))\n",
    "print(cal2.add(3))"
   ]
  },
  {
   "cell_type": "code",
   "execution_count": 30,
   "metadata": {},
   "outputs": [],
   "source": [
    "class FishBread:\n",
    "    pass"
   ]
  },
  {
   "cell_type": "code",
   "execution_count": 48,
   "metadata": {},
   "outputs": [],
   "source": [
    "class FourCal:\n",
    "    def SetData(self,num1,num2):\n",
    "        self.num1=num1\n",
    "        self.num2=num2\n",
    "    def add(self):\n",
    "        self.res=self.num1+self.num2\n",
    "        return self.res\n",
    "    def sub(self):\n",
    "        self.res=self.num1-self.num2\n",
    "        return self.res\n",
    "    def div(self):\n",
    "        self.res=self.num1/self.num2\n",
    "        return self.res\n",
    "    def mul(self):\n",
    "        self.res=self.num1*self.num2\n",
    "        return self.res"
   ]
  },
  {
   "cell_type": "code",
   "execution_count": 51,
   "metadata": {},
   "outputs": [
    {
     "name": "stdout",
     "output_type": "stream",
     "text": [
      "9 8\n",
      "5 -8\n",
      "3.5 0.0\n",
      "14 0\n"
     ]
    }
   ],
   "source": [
    "a=FourCal()\n",
    "b=FourCal()\n",
    "a.SetData(7,2)\n",
    "b.SetData(0,8)\n",
    "\n",
    "print(a.add(),b.add())\n",
    "print(a.sub(),b.sub())\n",
    "print(a.div(),b.div())\n",
    "print(a.mul(),b.mul())"
   ]
  },
  {
   "cell_type": "code",
   "execution_count": 52,
   "metadata": {},
   "outputs": [],
   "source": [
    "class moreFourCal(FourCal):\n",
    "    pass"
   ]
  },
  {
   "cell_type": "code",
   "execution_count": 53,
   "metadata": {},
   "outputs": [
    {
     "data": {
      "text/plain": [
       "6"
      ]
     },
     "execution_count": 53,
     "metadata": {},
     "output_type": "execute_result"
    }
   ],
   "source": [
    "a=moreFourCal()\n",
    "a.SetData(4,2)\n",
    "a.add()"
   ]
  },
  {
   "cell_type": "code",
   "execution_count": null,
   "metadata": {},
   "outputs": [],
   "source": []
  }
 ],
 "metadata": {
  "kernelspec": {
   "display_name": "Python 3",
   "language": "python",
   "name": "python3"
  },
  "language_info": {
   "codemirror_mode": {
    "name": "ipython",
    "version": 3
   },
   "file_extension": ".py",
   "mimetype": "text/x-python",
   "name": "python",
   "nbconvert_exporter": "python",
   "pygments_lexer": "ipython3",
   "version": "3.7.4"
  }
 },
 "nbformat": 4,
 "nbformat_minor": 2
}
