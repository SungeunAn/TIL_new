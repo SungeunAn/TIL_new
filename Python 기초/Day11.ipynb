{
 "cells": [
  {
   "cell_type": "code",
   "execution_count": 4,
   "metadata": {},
   "outputs": [
    {
     "name": "stdout",
     "output_type": "stream",
     "text": [
      "<class 'bs4.element.Tag'>\n",
      "['1984년 12월 22일']\n",
      "<class 'bs4.element.Tag'>\n",
      "['1988년 3월 1일']\n",
      "<class 'bs4.element.Tag'>\n",
      "['1995년 3월 11일']\n",
      "<class 'bs4.element.Tag'>\n",
      "['2006년 7월 31일', '2006년 8월 7일']\n",
      "<class 'bs4.element.Tag'>\n",
      "['2008년 6~7월']\n",
      "<class 'bs4.element.Tag'>\n",
      "['2009년 8월 15일']\n",
      "<class 'bs4.element.Tag'>\n",
      "['2011년 11월 4일']\n",
      "<class 'bs4.element.Tag'>\n",
      "['2016년 3월 6일']\n"
     ]
    }
   ],
   "source": [
    "#문제 5번. 윤동주 시인 방송 출연\n",
    "import urllib.request as req\n",
    "import re\n",
    "from bs4 import BeautifulSoup\n",
    "\n",
    "url=\"https://ko.wikipedia.org/wiki/%EC%9C%A4%EB%8F%99%EC%A3%BC\"\n",
    "res=req.urlopen(url)\n",
    "soup=BeautifulSoup(res, 'html.parser')\n",
    "myList=soup.select(\"#mw-content-text > div > ul:nth-child(71) >li\")\n",
    "\n",
    "for a in myList:\n",
    "    print(type(a))\n",
    "    t = a.text\n",
    "    pat=re.compile(\"\\d+년 \\d*[~]*\\d*월\\s*\\d*일*\")\n",
    "    print(pat.findall(t))"
   ]
  },
  {
   "cell_type": "code",
   "execution_count": null,
   "metadata": {},
   "outputs": [],
   "source": []
  }
 ],
 "metadata": {
  "kernelspec": {
   "display_name": "Python 3",
   "language": "python",
   "name": "python3"
  },
  "language_info": {
   "codemirror_mode": {
    "name": "ipython",
    "version": 3
   },
   "file_extension": ".py",
   "mimetype": "text/x-python",
   "name": "python",
   "nbconvert_exporter": "python",
   "pygments_lexer": "ipython3",
   "version": "3.7.4"
  }
 },
 "nbformat": 4,
 "nbformat_minor": 2
}
